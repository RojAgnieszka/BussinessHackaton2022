{
  "nbformat": 4,
  "nbformat_minor": 0,
  "metadata": {
    "colab": {
      "name": "Business Hackaton.ipynb",
      "provenance": [],
      "collapsed_sections": [
        "v32hIv81agat"
      ]
    },
    "kernelspec": {
      "name": "python3",
      "display_name": "Python 3"
    },
    "language_info": {
      "name": "python"
    }
  },
  "cells": [
    {
      "cell_type": "markdown",
      "source": [
        "# Kogo powinniśmy zatrzymać w naszej firmie?\n",
        "Poniżej znajduje się analiza danych pracowników, na której podstawie zostaną wyprowadzone wnioski o prawdopodobieństwie ich odejścia\n",
        "\n",
        "* W pierwszej części dokumentu przyjrzymy się zawartości pliku Attrition_dataset.csv w celu zdobycia informacji o czynnikach różniących pracowników, którzy odeszli od nadal zatrudnionych\n",
        "\n",
        "\n",
        "* W drugiej części przedstawimy dane dotyczące pliku Cities_map.csv i przeanalizujemy wpływ lokalizacji miejsca pracy osób zatrudnionych w firmie na ich późniejszą obecność w firmie\n",
        "\n",
        "* W trzeciej części przedstawione są zmiany w firmie na przestrzeni czasu"
      ],
      "metadata": {
        "id": "nkT4qmK5xe9d"
      }
    },
    {
      "cell_type": "code",
      "execution_count": 104,
      "metadata": {
        "id": "-Vci0pW1vJOL"
      },
      "outputs": [],
      "source": [
        "# Import bibliotek\n",
        "import numpy as np\n",
        "import pandas as pd\n",
        "import matplotlib.pyplot as plt\n",
        "\n",
        "# Import danych\n",
        "Attrition_dataset = pd.read_csv('https://raw.githubusercontent.com/JayJaySea/Hackaton-Files/main/Attrition_dataset.csv', sep=';')\n",
        "Cities_map = pd.read_csv('https://raw.githubusercontent.com/JayJaySea/Hackaton-Files/main/Cities_map.csv', sep=';')"
      ]
    },
    {
      "cell_type": "markdown",
      "source": [
        "## Analiza zawartości pliku Attrition_dataset.csv\n",
        "\n"
      ],
      "metadata": {
        "id": "v32hIv81agat"
      }
    },
    {
      "cell_type": "markdown",
      "source": [
        "### Przedstawienie wstępnych informacji"
      ],
      "metadata": {
        "id": "1PYTP47yc0-P"
      }
    },
    {
      "cell_type": "code",
      "source": [
        "Attrition_dataset.head(10)"
      ],
      "metadata": {
        "colab": {
          "base_uri": "https://localhost:8080/",
          "height": 363
        },
        "id": "d2Qrym_fypiu",
        "outputId": "d8200cde-390a-498e-be05-a9d9992db7e8"
      },
      "execution_count": 105,
      "outputs": [
        {
          "output_type": "execute_result",
          "data": {
            "text/plain": [
              "   Emp_ID      MMM.YY  Age        Salary LastWorkingDate  Designation  \\\n",
              "0       1  01.01.2016   28  57387,00 USD             NaN            1   \n",
              "1       1  01.02.2016   28  57387,00 USD             NaN            1   \n",
              "2       1  01.03.2016   28  57387,00 USD      11.03.2016            1   \n",
              "3       2  01.11.2017   31  67016,00 USD             NaN            2   \n",
              "4       2  01.12.2017   31  67016,00 USD             NaN            2   \n",
              "5       4  01.12.2016   43  65603,00 USD             NaN            2   \n",
              "6       4  01.01.2017   43  65603,00 USD             NaN            2   \n",
              "7       4  01.02.2017   43  65603,00 USD             NaN            2   \n",
              "8       4  01.03.2017   43  65603,00 USD             NaN            2   \n",
              "9       4  01.04.2017   43  65603,00 USD      27.04.2017            2   \n",
              "\n",
              "   Total.Business.Value  Quarterly.Rating Gender City Education_Level  \\\n",
              "0               2381060                 2   Male  C23          MASTER   \n",
              "1               -665480                 2   Male  C23          MASTER   \n",
              "2                     0                 2   Male  C23          MASTER   \n",
              "3                     0                 1   Male   C7          Master   \n",
              "4                     0                 1   Male   C7          Master   \n",
              "5                     0                 1   Male  C13          Master   \n",
              "6                     0                 1   Male  C13          Master   \n",
              "7                     0                 1   Male  C13          Master   \n",
              "8                350000                 1   Male  C13          Master   \n",
              "9                     0                 1   Male  C13          Master   \n",
              "\n",
              "  Dateofjoining  Joining.Designation  \n",
              "0    24.12.2015                    1  \n",
              "1    24.12.2015                    1  \n",
              "2    24.12.2015                    1  \n",
              "3    06.11.2017                    2  \n",
              "4    06.11.2017                    2  \n",
              "5    07.12.2016                    2  \n",
              "6    07.12.2016                    2  \n",
              "7    07.12.2016                    2  \n",
              "8    07.12.2016                    2  \n",
              "9    07.12.2016                    2  "
            ],
            "text/html": [
              "\n",
              "  <div id=\"df-ea5598f2-2add-42ba-add7-9120955b4f86\">\n",
              "    <div class=\"colab-df-container\">\n",
              "      <div>\n",
              "<style scoped>\n",
              "    .dataframe tbody tr th:only-of-type {\n",
              "        vertical-align: middle;\n",
              "    }\n",
              "\n",
              "    .dataframe tbody tr th {\n",
              "        vertical-align: top;\n",
              "    }\n",
              "\n",
              "    .dataframe thead th {\n",
              "        text-align: right;\n",
              "    }\n",
              "</style>\n",
              "<table border=\"1\" class=\"dataframe\">\n",
              "  <thead>\n",
              "    <tr style=\"text-align: right;\">\n",
              "      <th></th>\n",
              "      <th>Emp_ID</th>\n",
              "      <th>MMM.YY</th>\n",
              "      <th>Age</th>\n",
              "      <th>Salary</th>\n",
              "      <th>LastWorkingDate</th>\n",
              "      <th>Designation</th>\n",
              "      <th>Total.Business.Value</th>\n",
              "      <th>Quarterly.Rating</th>\n",
              "      <th>Gender</th>\n",
              "      <th>City</th>\n",
              "      <th>Education_Level</th>\n",
              "      <th>Dateofjoining</th>\n",
              "      <th>Joining.Designation</th>\n",
              "    </tr>\n",
              "  </thead>\n",
              "  <tbody>\n",
              "    <tr>\n",
              "      <th>0</th>\n",
              "      <td>1</td>\n",
              "      <td>01.01.2016</td>\n",
              "      <td>28</td>\n",
              "      <td>57387,00 USD</td>\n",
              "      <td>NaN</td>\n",
              "      <td>1</td>\n",
              "      <td>2381060</td>\n",
              "      <td>2</td>\n",
              "      <td>Male</td>\n",
              "      <td>C23</td>\n",
              "      <td>MASTER</td>\n",
              "      <td>24.12.2015</td>\n",
              "      <td>1</td>\n",
              "    </tr>\n",
              "    <tr>\n",
              "      <th>1</th>\n",
              "      <td>1</td>\n",
              "      <td>01.02.2016</td>\n",
              "      <td>28</td>\n",
              "      <td>57387,00 USD</td>\n",
              "      <td>NaN</td>\n",
              "      <td>1</td>\n",
              "      <td>-665480</td>\n",
              "      <td>2</td>\n",
              "      <td>Male</td>\n",
              "      <td>C23</td>\n",
              "      <td>MASTER</td>\n",
              "      <td>24.12.2015</td>\n",
              "      <td>1</td>\n",
              "    </tr>\n",
              "    <tr>\n",
              "      <th>2</th>\n",
              "      <td>1</td>\n",
              "      <td>01.03.2016</td>\n",
              "      <td>28</td>\n",
              "      <td>57387,00 USD</td>\n",
              "      <td>11.03.2016</td>\n",
              "      <td>1</td>\n",
              "      <td>0</td>\n",
              "      <td>2</td>\n",
              "      <td>Male</td>\n",
              "      <td>C23</td>\n",
              "      <td>MASTER</td>\n",
              "      <td>24.12.2015</td>\n",
              "      <td>1</td>\n",
              "    </tr>\n",
              "    <tr>\n",
              "      <th>3</th>\n",
              "      <td>2</td>\n",
              "      <td>01.11.2017</td>\n",
              "      <td>31</td>\n",
              "      <td>67016,00 USD</td>\n",
              "      <td>NaN</td>\n",
              "      <td>2</td>\n",
              "      <td>0</td>\n",
              "      <td>1</td>\n",
              "      <td>Male</td>\n",
              "      <td>C7</td>\n",
              "      <td>Master</td>\n",
              "      <td>06.11.2017</td>\n",
              "      <td>2</td>\n",
              "    </tr>\n",
              "    <tr>\n",
              "      <th>4</th>\n",
              "      <td>2</td>\n",
              "      <td>01.12.2017</td>\n",
              "      <td>31</td>\n",
              "      <td>67016,00 USD</td>\n",
              "      <td>NaN</td>\n",
              "      <td>2</td>\n",
              "      <td>0</td>\n",
              "      <td>1</td>\n",
              "      <td>Male</td>\n",
              "      <td>C7</td>\n",
              "      <td>Master</td>\n",
              "      <td>06.11.2017</td>\n",
              "      <td>2</td>\n",
              "    </tr>\n",
              "    <tr>\n",
              "      <th>5</th>\n",
              "      <td>4</td>\n",
              "      <td>01.12.2016</td>\n",
              "      <td>43</td>\n",
              "      <td>65603,00 USD</td>\n",
              "      <td>NaN</td>\n",
              "      <td>2</td>\n",
              "      <td>0</td>\n",
              "      <td>1</td>\n",
              "      <td>Male</td>\n",
              "      <td>C13</td>\n",
              "      <td>Master</td>\n",
              "      <td>07.12.2016</td>\n",
              "      <td>2</td>\n",
              "    </tr>\n",
              "    <tr>\n",
              "      <th>6</th>\n",
              "      <td>4</td>\n",
              "      <td>01.01.2017</td>\n",
              "      <td>43</td>\n",
              "      <td>65603,00 USD</td>\n",
              "      <td>NaN</td>\n",
              "      <td>2</td>\n",
              "      <td>0</td>\n",
              "      <td>1</td>\n",
              "      <td>Male</td>\n",
              "      <td>C13</td>\n",
              "      <td>Master</td>\n",
              "      <td>07.12.2016</td>\n",
              "      <td>2</td>\n",
              "    </tr>\n",
              "    <tr>\n",
              "      <th>7</th>\n",
              "      <td>4</td>\n",
              "      <td>01.02.2017</td>\n",
              "      <td>43</td>\n",
              "      <td>65603,00 USD</td>\n",
              "      <td>NaN</td>\n",
              "      <td>2</td>\n",
              "      <td>0</td>\n",
              "      <td>1</td>\n",
              "      <td>Male</td>\n",
              "      <td>C13</td>\n",
              "      <td>Master</td>\n",
              "      <td>07.12.2016</td>\n",
              "      <td>2</td>\n",
              "    </tr>\n",
              "    <tr>\n",
              "      <th>8</th>\n",
              "      <td>4</td>\n",
              "      <td>01.03.2017</td>\n",
              "      <td>43</td>\n",
              "      <td>65603,00 USD</td>\n",
              "      <td>NaN</td>\n",
              "      <td>2</td>\n",
              "      <td>350000</td>\n",
              "      <td>1</td>\n",
              "      <td>Male</td>\n",
              "      <td>C13</td>\n",
              "      <td>Master</td>\n",
              "      <td>07.12.2016</td>\n",
              "      <td>2</td>\n",
              "    </tr>\n",
              "    <tr>\n",
              "      <th>9</th>\n",
              "      <td>4</td>\n",
              "      <td>01.04.2017</td>\n",
              "      <td>43</td>\n",
              "      <td>65603,00 USD</td>\n",
              "      <td>27.04.2017</td>\n",
              "      <td>2</td>\n",
              "      <td>0</td>\n",
              "      <td>1</td>\n",
              "      <td>Male</td>\n",
              "      <td>C13</td>\n",
              "      <td>Master</td>\n",
              "      <td>07.12.2016</td>\n",
              "      <td>2</td>\n",
              "    </tr>\n",
              "  </tbody>\n",
              "</table>\n",
              "</div>\n",
              "      <button class=\"colab-df-convert\" onclick=\"convertToInteractive('df-ea5598f2-2add-42ba-add7-9120955b4f86')\"\n",
              "              title=\"Convert this dataframe to an interactive table.\"\n",
              "              style=\"display:none;\">\n",
              "        \n",
              "  <svg xmlns=\"http://www.w3.org/2000/svg\" height=\"24px\"viewBox=\"0 0 24 24\"\n",
              "       width=\"24px\">\n",
              "    <path d=\"M0 0h24v24H0V0z\" fill=\"none\"/>\n",
              "    <path d=\"M18.56 5.44l.94 2.06.94-2.06 2.06-.94-2.06-.94-.94-2.06-.94 2.06-2.06.94zm-11 1L8.5 8.5l.94-2.06 2.06-.94-2.06-.94L8.5 2.5l-.94 2.06-2.06.94zm10 10l.94 2.06.94-2.06 2.06-.94-2.06-.94-.94-2.06-.94 2.06-2.06.94z\"/><path d=\"M17.41 7.96l-1.37-1.37c-.4-.4-.92-.59-1.43-.59-.52 0-1.04.2-1.43.59L10.3 9.45l-7.72 7.72c-.78.78-.78 2.05 0 2.83L4 21.41c.39.39.9.59 1.41.59.51 0 1.02-.2 1.41-.59l7.78-7.78 2.81-2.81c.8-.78.8-2.07 0-2.86zM5.41 20L4 18.59l7.72-7.72 1.47 1.35L5.41 20z\"/>\n",
              "  </svg>\n",
              "      </button>\n",
              "      \n",
              "  <style>\n",
              "    .colab-df-container {\n",
              "      display:flex;\n",
              "      flex-wrap:wrap;\n",
              "      gap: 12px;\n",
              "    }\n",
              "\n",
              "    .colab-df-convert {\n",
              "      background-color: #E8F0FE;\n",
              "      border: none;\n",
              "      border-radius: 50%;\n",
              "      cursor: pointer;\n",
              "      display: none;\n",
              "      fill: #1967D2;\n",
              "      height: 32px;\n",
              "      padding: 0 0 0 0;\n",
              "      width: 32px;\n",
              "    }\n",
              "\n",
              "    .colab-df-convert:hover {\n",
              "      background-color: #E2EBFA;\n",
              "      box-shadow: 0px 1px 2px rgba(60, 64, 67, 0.3), 0px 1px 3px 1px rgba(60, 64, 67, 0.15);\n",
              "      fill: #174EA6;\n",
              "    }\n",
              "\n",
              "    [theme=dark] .colab-df-convert {\n",
              "      background-color: #3B4455;\n",
              "      fill: #D2E3FC;\n",
              "    }\n",
              "\n",
              "    [theme=dark] .colab-df-convert:hover {\n",
              "      background-color: #434B5C;\n",
              "      box-shadow: 0px 1px 3px 1px rgba(0, 0, 0, 0.15);\n",
              "      filter: drop-shadow(0px 1px 2px rgba(0, 0, 0, 0.3));\n",
              "      fill: #FFFFFF;\n",
              "    }\n",
              "  </style>\n",
              "\n",
              "      <script>\n",
              "        const buttonEl =\n",
              "          document.querySelector('#df-ea5598f2-2add-42ba-add7-9120955b4f86 button.colab-df-convert');\n",
              "        buttonEl.style.display =\n",
              "          google.colab.kernel.accessAllowed ? 'block' : 'none';\n",
              "\n",
              "        async function convertToInteractive(key) {\n",
              "          const element = document.querySelector('#df-ea5598f2-2add-42ba-add7-9120955b4f86');\n",
              "          const dataTable =\n",
              "            await google.colab.kernel.invokeFunction('convertToInteractive',\n",
              "                                                     [key], {});\n",
              "          if (!dataTable) return;\n",
              "\n",
              "          const docLinkHtml = 'Like what you see? Visit the ' +\n",
              "            '<a target=\"_blank\" href=https://colab.research.google.com/notebooks/data_table.ipynb>data table notebook</a>'\n",
              "            + ' to learn more about interactive tables.';\n",
              "          element.innerHTML = '';\n",
              "          dataTable['output_type'] = 'display_data';\n",
              "          await google.colab.output.renderOutput(dataTable, element);\n",
              "          const docLink = document.createElement('div');\n",
              "          docLink.innerHTML = docLinkHtml;\n",
              "          element.appendChild(docLink);\n",
              "        }\n",
              "      </script>\n",
              "    </div>\n",
              "  </div>\n",
              "  "
            ]
          },
          "metadata": {},
          "execution_count": 105
        }
      ]
    },
    {
      "cell_type": "code",
      "source": [
        "Attrition_dataset.describe()"
      ],
      "metadata": {
        "colab": {
          "base_uri": "https://localhost:8080/",
          "height": 300
        },
        "id": "fubSq91Ty0fP",
        "outputId": "11d34abf-f5d4-4551-f6a4-2eb51ed43851"
      },
      "execution_count": 106,
      "outputs": [
        {
          "output_type": "execute_result",
          "data": {
            "text/plain": [
              "             Emp_ID           Age   Designation  Total.Business.Value  \\\n",
              "count  19190.000000  19190.000000  19190.000000          1.919000e+04   \n",
              "mean    1416.239083     34.649192      2.252579          5.710257e+05   \n",
              "std      810.866259      6.264600      1.026329          1.126591e+06   \n",
              "min        1.000000     21.000000      1.000000         -6.000000e+06   \n",
              "25%      712.000000     30.000000      1.000000          0.000000e+00   \n",
              "50%     1417.500000     34.000000      2.000000          2.500000e+05   \n",
              "75%     2139.000000     39.000000      3.000000          6.995850e+05   \n",
              "max     2788.000000     58.000000      5.000000          3.374772e+07   \n",
              "\n",
              "       Quarterly.Rating  Joining.Designation  \n",
              "count      19190.000000         19190.000000  \n",
              "mean           2.008963             1.690412  \n",
              "std            1.009839             0.836580  \n",
              "min            1.000000             1.000000  \n",
              "25%            1.000000             1.000000  \n",
              "50%            2.000000             1.000000  \n",
              "75%            3.000000             2.000000  \n",
              "max            4.000000             5.000000  "
            ],
            "text/html": [
              "\n",
              "  <div id=\"df-3c27ee3c-5c77-417c-8f46-3f0b3bbc2637\">\n",
              "    <div class=\"colab-df-container\">\n",
              "      <div>\n",
              "<style scoped>\n",
              "    .dataframe tbody tr th:only-of-type {\n",
              "        vertical-align: middle;\n",
              "    }\n",
              "\n",
              "    .dataframe tbody tr th {\n",
              "        vertical-align: top;\n",
              "    }\n",
              "\n",
              "    .dataframe thead th {\n",
              "        text-align: right;\n",
              "    }\n",
              "</style>\n",
              "<table border=\"1\" class=\"dataframe\">\n",
              "  <thead>\n",
              "    <tr style=\"text-align: right;\">\n",
              "      <th></th>\n",
              "      <th>Emp_ID</th>\n",
              "      <th>Age</th>\n",
              "      <th>Designation</th>\n",
              "      <th>Total.Business.Value</th>\n",
              "      <th>Quarterly.Rating</th>\n",
              "      <th>Joining.Designation</th>\n",
              "    </tr>\n",
              "  </thead>\n",
              "  <tbody>\n",
              "    <tr>\n",
              "      <th>count</th>\n",
              "      <td>19190.000000</td>\n",
              "      <td>19190.000000</td>\n",
              "      <td>19190.000000</td>\n",
              "      <td>1.919000e+04</td>\n",
              "      <td>19190.000000</td>\n",
              "      <td>19190.000000</td>\n",
              "    </tr>\n",
              "    <tr>\n",
              "      <th>mean</th>\n",
              "      <td>1416.239083</td>\n",
              "      <td>34.649192</td>\n",
              "      <td>2.252579</td>\n",
              "      <td>5.710257e+05</td>\n",
              "      <td>2.008963</td>\n",
              "      <td>1.690412</td>\n",
              "    </tr>\n",
              "    <tr>\n",
              "      <th>std</th>\n",
              "      <td>810.866259</td>\n",
              "      <td>6.264600</td>\n",
              "      <td>1.026329</td>\n",
              "      <td>1.126591e+06</td>\n",
              "      <td>1.009839</td>\n",
              "      <td>0.836580</td>\n",
              "    </tr>\n",
              "    <tr>\n",
              "      <th>min</th>\n",
              "      <td>1.000000</td>\n",
              "      <td>21.000000</td>\n",
              "      <td>1.000000</td>\n",
              "      <td>-6.000000e+06</td>\n",
              "      <td>1.000000</td>\n",
              "      <td>1.000000</td>\n",
              "    </tr>\n",
              "    <tr>\n",
              "      <th>25%</th>\n",
              "      <td>712.000000</td>\n",
              "      <td>30.000000</td>\n",
              "      <td>1.000000</td>\n",
              "      <td>0.000000e+00</td>\n",
              "      <td>1.000000</td>\n",
              "      <td>1.000000</td>\n",
              "    </tr>\n",
              "    <tr>\n",
              "      <th>50%</th>\n",
              "      <td>1417.500000</td>\n",
              "      <td>34.000000</td>\n",
              "      <td>2.000000</td>\n",
              "      <td>2.500000e+05</td>\n",
              "      <td>2.000000</td>\n",
              "      <td>1.000000</td>\n",
              "    </tr>\n",
              "    <tr>\n",
              "      <th>75%</th>\n",
              "      <td>2139.000000</td>\n",
              "      <td>39.000000</td>\n",
              "      <td>3.000000</td>\n",
              "      <td>6.995850e+05</td>\n",
              "      <td>3.000000</td>\n",
              "      <td>2.000000</td>\n",
              "    </tr>\n",
              "    <tr>\n",
              "      <th>max</th>\n",
              "      <td>2788.000000</td>\n",
              "      <td>58.000000</td>\n",
              "      <td>5.000000</td>\n",
              "      <td>3.374772e+07</td>\n",
              "      <td>4.000000</td>\n",
              "      <td>5.000000</td>\n",
              "    </tr>\n",
              "  </tbody>\n",
              "</table>\n",
              "</div>\n",
              "      <button class=\"colab-df-convert\" onclick=\"convertToInteractive('df-3c27ee3c-5c77-417c-8f46-3f0b3bbc2637')\"\n",
              "              title=\"Convert this dataframe to an interactive table.\"\n",
              "              style=\"display:none;\">\n",
              "        \n",
              "  <svg xmlns=\"http://www.w3.org/2000/svg\" height=\"24px\"viewBox=\"0 0 24 24\"\n",
              "       width=\"24px\">\n",
              "    <path d=\"M0 0h24v24H0V0z\" fill=\"none\"/>\n",
              "    <path d=\"M18.56 5.44l.94 2.06.94-2.06 2.06-.94-2.06-.94-.94-2.06-.94 2.06-2.06.94zm-11 1L8.5 8.5l.94-2.06 2.06-.94-2.06-.94L8.5 2.5l-.94 2.06-2.06.94zm10 10l.94 2.06.94-2.06 2.06-.94-2.06-.94-.94-2.06-.94 2.06-2.06.94z\"/><path d=\"M17.41 7.96l-1.37-1.37c-.4-.4-.92-.59-1.43-.59-.52 0-1.04.2-1.43.59L10.3 9.45l-7.72 7.72c-.78.78-.78 2.05 0 2.83L4 21.41c.39.39.9.59 1.41.59.51 0 1.02-.2 1.41-.59l7.78-7.78 2.81-2.81c.8-.78.8-2.07 0-2.86zM5.41 20L4 18.59l7.72-7.72 1.47 1.35L5.41 20z\"/>\n",
              "  </svg>\n",
              "      </button>\n",
              "      \n",
              "  <style>\n",
              "    .colab-df-container {\n",
              "      display:flex;\n",
              "      flex-wrap:wrap;\n",
              "      gap: 12px;\n",
              "    }\n",
              "\n",
              "    .colab-df-convert {\n",
              "      background-color: #E8F0FE;\n",
              "      border: none;\n",
              "      border-radius: 50%;\n",
              "      cursor: pointer;\n",
              "      display: none;\n",
              "      fill: #1967D2;\n",
              "      height: 32px;\n",
              "      padding: 0 0 0 0;\n",
              "      width: 32px;\n",
              "    }\n",
              "\n",
              "    .colab-df-convert:hover {\n",
              "      background-color: #E2EBFA;\n",
              "      box-shadow: 0px 1px 2px rgba(60, 64, 67, 0.3), 0px 1px 3px 1px rgba(60, 64, 67, 0.15);\n",
              "      fill: #174EA6;\n",
              "    }\n",
              "\n",
              "    [theme=dark] .colab-df-convert {\n",
              "      background-color: #3B4455;\n",
              "      fill: #D2E3FC;\n",
              "    }\n",
              "\n",
              "    [theme=dark] .colab-df-convert:hover {\n",
              "      background-color: #434B5C;\n",
              "      box-shadow: 0px 1px 3px 1px rgba(0, 0, 0, 0.15);\n",
              "      filter: drop-shadow(0px 1px 2px rgba(0, 0, 0, 0.3));\n",
              "      fill: #FFFFFF;\n",
              "    }\n",
              "  </style>\n",
              "\n",
              "      <script>\n",
              "        const buttonEl =\n",
              "          document.querySelector('#df-3c27ee3c-5c77-417c-8f46-3f0b3bbc2637 button.colab-df-convert');\n",
              "        buttonEl.style.display =\n",
              "          google.colab.kernel.accessAllowed ? 'block' : 'none';\n",
              "\n",
              "        async function convertToInteractive(key) {\n",
              "          const element = document.querySelector('#df-3c27ee3c-5c77-417c-8f46-3f0b3bbc2637');\n",
              "          const dataTable =\n",
              "            await google.colab.kernel.invokeFunction('convertToInteractive',\n",
              "                                                     [key], {});\n",
              "          if (!dataTable) return;\n",
              "\n",
              "          const docLinkHtml = 'Like what you see? Visit the ' +\n",
              "            '<a target=\"_blank\" href=https://colab.research.google.com/notebooks/data_table.ipynb>data table notebook</a>'\n",
              "            + ' to learn more about interactive tables.';\n",
              "          element.innerHTML = '';\n",
              "          dataTable['output_type'] = 'display_data';\n",
              "          await google.colab.output.renderOutput(dataTable, element);\n",
              "          const docLink = document.createElement('div');\n",
              "          docLink.innerHTML = docLinkHtml;\n",
              "          element.appendChild(docLink);\n",
              "        }\n",
              "      </script>\n",
              "    </div>\n",
              "  </div>\n",
              "  "
            ]
          },
          "metadata": {},
          "execution_count": 106
        }
      ]
    },
    {
      "cell_type": "code",
      "source": [
        "Attrition_dataset.info()"
      ],
      "metadata": {
        "colab": {
          "base_uri": "https://localhost:8080/"
        },
        "id": "FKHbKL8CzmDs",
        "outputId": "5a2dc361-1f01-4079-b5cc-6d3822f4ce63"
      },
      "execution_count": 107,
      "outputs": [
        {
          "output_type": "stream",
          "name": "stdout",
          "text": [
            "<class 'pandas.core.frame.DataFrame'>\n",
            "RangeIndex: 19190 entries, 0 to 19189\n",
            "Data columns (total 13 columns):\n",
            " #   Column                Non-Null Count  Dtype \n",
            "---  ------                --------------  ----- \n",
            " 0   Emp_ID                19190 non-null  int64 \n",
            " 1   MMM.YY                19190 non-null  object\n",
            " 2   Age                   19190 non-null  int64 \n",
            " 3   Salary                19190 non-null  object\n",
            " 4   LastWorkingDate       1628 non-null   object\n",
            " 5   Designation           19190 non-null  int64 \n",
            " 6   Total.Business.Value  19190 non-null  int64 \n",
            " 7   Quarterly.Rating      19190 non-null  int64 \n",
            " 8   Gender                19190 non-null  object\n",
            " 9   City                  19190 non-null  object\n",
            " 10  Education_Level       19190 non-null  object\n",
            " 11  Dateofjoining         19190 non-null  object\n",
            " 12  Joining.Designation   19190 non-null  int64 \n",
            "dtypes: int64(6), object(7)\n",
            "memory usage: 1.9+ MB\n"
          ]
        }
      ]
    },
    {
      "cell_type": "code",
      "source": [
        "Attrition_dataset.shape"
      ],
      "metadata": {
        "colab": {
          "base_uri": "https://localhost:8080/"
        },
        "id": "I-MwBzXgztMs",
        "outputId": "f63c9ec7-fa6d-4f74-9b5d-5605c82ff024"
      },
      "execution_count": 108,
      "outputs": [
        {
          "output_type": "execute_result",
          "data": {
            "text/plain": [
              "(19190, 13)"
            ]
          },
          "metadata": {},
          "execution_count": 108
        }
      ]
    },
    {
      "cell_type": "markdown",
      "source": [
        "### Porównanie informacji o pracownikach, którzy odeszli, z nadal zatrudnionymi"
      ],
      "metadata": {
        "id": "Gt1Tb-Mud6LO"
      }
    },
    {
      "cell_type": "markdown",
      "source": [
        "#### Sortowanie danych według ID pracownika i daty oceny"
      ],
      "metadata": {
        "id": "jsmYwLYoe5c2"
      }
    },
    {
      "cell_type": "code",
      "source": [
        "att_set = Attrition_dataset.sort_values(by=['Emp_ID', 'MMM.YY'])\n",
        "att_set.head(10)"
      ],
      "metadata": {
        "colab": {
          "base_uri": "https://localhost:8080/",
          "height": 363
        },
        "id": "eiAof33Iz3Sr",
        "outputId": "eccd1780-f8a8-465b-aa8d-443ffff5599d"
      },
      "execution_count": 109,
      "outputs": [
        {
          "output_type": "execute_result",
          "data": {
            "text/plain": [
              "   Emp_ID      MMM.YY  Age        Salary LastWorkingDate  Designation  \\\n",
              "0       1  01.01.2016   28  57387,00 USD             NaN            1   \n",
              "1       1  01.02.2016   28  57387,00 USD             NaN            1   \n",
              "2       1  01.03.2016   28  57387,00 USD      11.03.2016            1   \n",
              "3       2  01.11.2017   31  67016,00 USD             NaN            2   \n",
              "4       2  01.12.2017   31  67016,00 USD             NaN            2   \n",
              "6       4  01.01.2017   43  65603,00 USD             NaN            2   \n",
              "7       4  01.02.2017   43  65603,00 USD             NaN            2   \n",
              "8       4  01.03.2017   43  65603,00 USD             NaN            2   \n",
              "9       4  01.04.2017   43  65603,00 USD      27.04.2017            2   \n",
              "5       4  01.12.2016   43  65603,00 USD             NaN            2   \n",
              "\n",
              "   Total.Business.Value  Quarterly.Rating Gender City Education_Level  \\\n",
              "0               2381060                 2   Male  C23          MASTER   \n",
              "1               -665480                 2   Male  C23          MASTER   \n",
              "2                     0                 2   Male  C23          MASTER   \n",
              "3                     0                 1   Male   C7          Master   \n",
              "4                     0                 1   Male   C7          Master   \n",
              "6                     0                 1   Male  C13          Master   \n",
              "7                     0                 1   Male  C13          Master   \n",
              "8                350000                 1   Male  C13          Master   \n",
              "9                     0                 1   Male  C13          Master   \n",
              "5                     0                 1   Male  C13          Master   \n",
              "\n",
              "  Dateofjoining  Joining.Designation  \n",
              "0    24.12.2015                    1  \n",
              "1    24.12.2015                    1  \n",
              "2    24.12.2015                    1  \n",
              "3    06.11.2017                    2  \n",
              "4    06.11.2017                    2  \n",
              "6    07.12.2016                    2  \n",
              "7    07.12.2016                    2  \n",
              "8    07.12.2016                    2  \n",
              "9    07.12.2016                    2  \n",
              "5    07.12.2016                    2  "
            ],
            "text/html": [
              "\n",
              "  <div id=\"df-40807fbc-23b3-4e66-8448-052935d944e6\">\n",
              "    <div class=\"colab-df-container\">\n",
              "      <div>\n",
              "<style scoped>\n",
              "    .dataframe tbody tr th:only-of-type {\n",
              "        vertical-align: middle;\n",
              "    }\n",
              "\n",
              "    .dataframe tbody tr th {\n",
              "        vertical-align: top;\n",
              "    }\n",
              "\n",
              "    .dataframe thead th {\n",
              "        text-align: right;\n",
              "    }\n",
              "</style>\n",
              "<table border=\"1\" class=\"dataframe\">\n",
              "  <thead>\n",
              "    <tr style=\"text-align: right;\">\n",
              "      <th></th>\n",
              "      <th>Emp_ID</th>\n",
              "      <th>MMM.YY</th>\n",
              "      <th>Age</th>\n",
              "      <th>Salary</th>\n",
              "      <th>LastWorkingDate</th>\n",
              "      <th>Designation</th>\n",
              "      <th>Total.Business.Value</th>\n",
              "      <th>Quarterly.Rating</th>\n",
              "      <th>Gender</th>\n",
              "      <th>City</th>\n",
              "      <th>Education_Level</th>\n",
              "      <th>Dateofjoining</th>\n",
              "      <th>Joining.Designation</th>\n",
              "    </tr>\n",
              "  </thead>\n",
              "  <tbody>\n",
              "    <tr>\n",
              "      <th>0</th>\n",
              "      <td>1</td>\n",
              "      <td>01.01.2016</td>\n",
              "      <td>28</td>\n",
              "      <td>57387,00 USD</td>\n",
              "      <td>NaN</td>\n",
              "      <td>1</td>\n",
              "      <td>2381060</td>\n",
              "      <td>2</td>\n",
              "      <td>Male</td>\n",
              "      <td>C23</td>\n",
              "      <td>MASTER</td>\n",
              "      <td>24.12.2015</td>\n",
              "      <td>1</td>\n",
              "    </tr>\n",
              "    <tr>\n",
              "      <th>1</th>\n",
              "      <td>1</td>\n",
              "      <td>01.02.2016</td>\n",
              "      <td>28</td>\n",
              "      <td>57387,00 USD</td>\n",
              "      <td>NaN</td>\n",
              "      <td>1</td>\n",
              "      <td>-665480</td>\n",
              "      <td>2</td>\n",
              "      <td>Male</td>\n",
              "      <td>C23</td>\n",
              "      <td>MASTER</td>\n",
              "      <td>24.12.2015</td>\n",
              "      <td>1</td>\n",
              "    </tr>\n",
              "    <tr>\n",
              "      <th>2</th>\n",
              "      <td>1</td>\n",
              "      <td>01.03.2016</td>\n",
              "      <td>28</td>\n",
              "      <td>57387,00 USD</td>\n",
              "      <td>11.03.2016</td>\n",
              "      <td>1</td>\n",
              "      <td>0</td>\n",
              "      <td>2</td>\n",
              "      <td>Male</td>\n",
              "      <td>C23</td>\n",
              "      <td>MASTER</td>\n",
              "      <td>24.12.2015</td>\n",
              "      <td>1</td>\n",
              "    </tr>\n",
              "    <tr>\n",
              "      <th>3</th>\n",
              "      <td>2</td>\n",
              "      <td>01.11.2017</td>\n",
              "      <td>31</td>\n",
              "      <td>67016,00 USD</td>\n",
              "      <td>NaN</td>\n",
              "      <td>2</td>\n",
              "      <td>0</td>\n",
              "      <td>1</td>\n",
              "      <td>Male</td>\n",
              "      <td>C7</td>\n",
              "      <td>Master</td>\n",
              "      <td>06.11.2017</td>\n",
              "      <td>2</td>\n",
              "    </tr>\n",
              "    <tr>\n",
              "      <th>4</th>\n",
              "      <td>2</td>\n",
              "      <td>01.12.2017</td>\n",
              "      <td>31</td>\n",
              "      <td>67016,00 USD</td>\n",
              "      <td>NaN</td>\n",
              "      <td>2</td>\n",
              "      <td>0</td>\n",
              "      <td>1</td>\n",
              "      <td>Male</td>\n",
              "      <td>C7</td>\n",
              "      <td>Master</td>\n",
              "      <td>06.11.2017</td>\n",
              "      <td>2</td>\n",
              "    </tr>\n",
              "    <tr>\n",
              "      <th>6</th>\n",
              "      <td>4</td>\n",
              "      <td>01.01.2017</td>\n",
              "      <td>43</td>\n",
              "      <td>65603,00 USD</td>\n",
              "      <td>NaN</td>\n",
              "      <td>2</td>\n",
              "      <td>0</td>\n",
              "      <td>1</td>\n",
              "      <td>Male</td>\n",
              "      <td>C13</td>\n",
              "      <td>Master</td>\n",
              "      <td>07.12.2016</td>\n",
              "      <td>2</td>\n",
              "    </tr>\n",
              "    <tr>\n",
              "      <th>7</th>\n",
              "      <td>4</td>\n",
              "      <td>01.02.2017</td>\n",
              "      <td>43</td>\n",
              "      <td>65603,00 USD</td>\n",
              "      <td>NaN</td>\n",
              "      <td>2</td>\n",
              "      <td>0</td>\n",
              "      <td>1</td>\n",
              "      <td>Male</td>\n",
              "      <td>C13</td>\n",
              "      <td>Master</td>\n",
              "      <td>07.12.2016</td>\n",
              "      <td>2</td>\n",
              "    </tr>\n",
              "    <tr>\n",
              "      <th>8</th>\n",
              "      <td>4</td>\n",
              "      <td>01.03.2017</td>\n",
              "      <td>43</td>\n",
              "      <td>65603,00 USD</td>\n",
              "      <td>NaN</td>\n",
              "      <td>2</td>\n",
              "      <td>350000</td>\n",
              "      <td>1</td>\n",
              "      <td>Male</td>\n",
              "      <td>C13</td>\n",
              "      <td>Master</td>\n",
              "      <td>07.12.2016</td>\n",
              "      <td>2</td>\n",
              "    </tr>\n",
              "    <tr>\n",
              "      <th>9</th>\n",
              "      <td>4</td>\n",
              "      <td>01.04.2017</td>\n",
              "      <td>43</td>\n",
              "      <td>65603,00 USD</td>\n",
              "      <td>27.04.2017</td>\n",
              "      <td>2</td>\n",
              "      <td>0</td>\n",
              "      <td>1</td>\n",
              "      <td>Male</td>\n",
              "      <td>C13</td>\n",
              "      <td>Master</td>\n",
              "      <td>07.12.2016</td>\n",
              "      <td>2</td>\n",
              "    </tr>\n",
              "    <tr>\n",
              "      <th>5</th>\n",
              "      <td>4</td>\n",
              "      <td>01.12.2016</td>\n",
              "      <td>43</td>\n",
              "      <td>65603,00 USD</td>\n",
              "      <td>NaN</td>\n",
              "      <td>2</td>\n",
              "      <td>0</td>\n",
              "      <td>1</td>\n",
              "      <td>Male</td>\n",
              "      <td>C13</td>\n",
              "      <td>Master</td>\n",
              "      <td>07.12.2016</td>\n",
              "      <td>2</td>\n",
              "    </tr>\n",
              "  </tbody>\n",
              "</table>\n",
              "</div>\n",
              "      <button class=\"colab-df-convert\" onclick=\"convertToInteractive('df-40807fbc-23b3-4e66-8448-052935d944e6')\"\n",
              "              title=\"Convert this dataframe to an interactive table.\"\n",
              "              style=\"display:none;\">\n",
              "        \n",
              "  <svg xmlns=\"http://www.w3.org/2000/svg\" height=\"24px\"viewBox=\"0 0 24 24\"\n",
              "       width=\"24px\">\n",
              "    <path d=\"M0 0h24v24H0V0z\" fill=\"none\"/>\n",
              "    <path d=\"M18.56 5.44l.94 2.06.94-2.06 2.06-.94-2.06-.94-.94-2.06-.94 2.06-2.06.94zm-11 1L8.5 8.5l.94-2.06 2.06-.94-2.06-.94L8.5 2.5l-.94 2.06-2.06.94zm10 10l.94 2.06.94-2.06 2.06-.94-2.06-.94-.94-2.06-.94 2.06-2.06.94z\"/><path d=\"M17.41 7.96l-1.37-1.37c-.4-.4-.92-.59-1.43-.59-.52 0-1.04.2-1.43.59L10.3 9.45l-7.72 7.72c-.78.78-.78 2.05 0 2.83L4 21.41c.39.39.9.59 1.41.59.51 0 1.02-.2 1.41-.59l7.78-7.78 2.81-2.81c.8-.78.8-2.07 0-2.86zM5.41 20L4 18.59l7.72-7.72 1.47 1.35L5.41 20z\"/>\n",
              "  </svg>\n",
              "      </button>\n",
              "      \n",
              "  <style>\n",
              "    .colab-df-container {\n",
              "      display:flex;\n",
              "      flex-wrap:wrap;\n",
              "      gap: 12px;\n",
              "    }\n",
              "\n",
              "    .colab-df-convert {\n",
              "      background-color: #E8F0FE;\n",
              "      border: none;\n",
              "      border-radius: 50%;\n",
              "      cursor: pointer;\n",
              "      display: none;\n",
              "      fill: #1967D2;\n",
              "      height: 32px;\n",
              "      padding: 0 0 0 0;\n",
              "      width: 32px;\n",
              "    }\n",
              "\n",
              "    .colab-df-convert:hover {\n",
              "      background-color: #E2EBFA;\n",
              "      box-shadow: 0px 1px 2px rgba(60, 64, 67, 0.3), 0px 1px 3px 1px rgba(60, 64, 67, 0.15);\n",
              "      fill: #174EA6;\n",
              "    }\n",
              "\n",
              "    [theme=dark] .colab-df-convert {\n",
              "      background-color: #3B4455;\n",
              "      fill: #D2E3FC;\n",
              "    }\n",
              "\n",
              "    [theme=dark] .colab-df-convert:hover {\n",
              "      background-color: #434B5C;\n",
              "      box-shadow: 0px 1px 3px 1px rgba(0, 0, 0, 0.15);\n",
              "      filter: drop-shadow(0px 1px 2px rgba(0, 0, 0, 0.3));\n",
              "      fill: #FFFFFF;\n",
              "    }\n",
              "  </style>\n",
              "\n",
              "      <script>\n",
              "        const buttonEl =\n",
              "          document.querySelector('#df-40807fbc-23b3-4e66-8448-052935d944e6 button.colab-df-convert');\n",
              "        buttonEl.style.display =\n",
              "          google.colab.kernel.accessAllowed ? 'block' : 'none';\n",
              "\n",
              "        async function convertToInteractive(key) {\n",
              "          const element = document.querySelector('#df-40807fbc-23b3-4e66-8448-052935d944e6');\n",
              "          const dataTable =\n",
              "            await google.colab.kernel.invokeFunction('convertToInteractive',\n",
              "                                                     [key], {});\n",
              "          if (!dataTable) return;\n",
              "\n",
              "          const docLinkHtml = 'Like what you see? Visit the ' +\n",
              "            '<a target=\"_blank\" href=https://colab.research.google.com/notebooks/data_table.ipynb>data table notebook</a>'\n",
              "            + ' to learn more about interactive tables.';\n",
              "          element.innerHTML = '';\n",
              "          dataTable['output_type'] = 'display_data';\n",
              "          await google.colab.output.renderOutput(dataTable, element);\n",
              "          const docLink = document.createElement('div');\n",
              "          docLink.innerHTML = docLinkHtml;\n",
              "          element.appendChild(docLink);\n",
              "        }\n",
              "      </script>\n",
              "    </div>\n",
              "  </div>\n",
              "  "
            ]
          },
          "metadata": {},
          "execution_count": 109
        }
      ]
    },
    {
      "cell_type": "markdown",
      "source": [
        "#### Zsumowanie dostępnych informacji na temat każdego pracownika"
      ],
      "metadata": {
        "id": "M_w--g-ne_vM"
      }
    },
    {
      "cell_type": "code",
      "source": [
        "avg_set = att_set.filter(['Emp_ID', 'Age', 'Designation', 'Joining.Designation', 'Quarterly.Rating', 'Total.Business.Value'])\n",
        "avg_set = avg_set.groupby(\"Emp_ID\").mean()\n",
        "\n",
        "first_set = att_set.filter(['Emp_ID', 'Dateofjoining', 'City', 'Gender', 'Education_Level'])\n",
        "first_set = first_set.groupby('Emp_ID').first()\n",
        "\n",
        "changes_bv = att_set.filter(['Emp_ID', 'Total.Business.Value'])\n",
        "changes_bv.loc[changes_bv.groupby('Emp_ID')['Total.Business.Value'].head(1).index, 'Total.Business.Value'] = 0\n",
        "changes_bv = changes_bv.set_index('Emp_ID')\n",
        "changes_bv = changes_bv.groupby('Emp_ID').sum()\n",
        "changes_bv.rename(columns={'Total.Business.Value':'Business.Value.Change'}, inplace=True)\n",
        "\n",
        "avg_salary = att_set.filter(['Emp_ID', 'Salary'])\n",
        "avg_salary['Salary'] = avg_salary['Salary'].apply(lambda salary: float(salary.split(\" \")[0].replace(\",\", \".\")))\n",
        "avg_salary = avg_salary.set_index('Emp_ID')\n",
        "avg_salary = avg_salary.groupby('Emp_ID').mean()\n",
        "\n",
        "working = att_set.filter(['Emp_ID', 'LastWorkingDate'])\n",
        "working = working.groupby('Emp_ID').sum()\n",
        "\n",
        "worker_summary = avg_set.join(\n",
        "    changes_bv.join(\n",
        "        avg_salary.join(\n",
        "            working.join(\n",
        "                first_set\n",
        "            )\n",
        "        )\n",
        "    )\n",
        ")\n",
        "\n",
        "worker_summary.head(10)"
      ],
      "metadata": {
        "colab": {
          "base_uri": "https://localhost:8080/",
          "height": 394
        },
        "id": "o5hLK7t10Luo",
        "outputId": "f668ebde-bf50-4033-ea07-d860cf368492"
      },
      "execution_count": 110,
      "outputs": [
        {
          "output_type": "execute_result",
          "data": {
            "text/plain": [
              "              Age  Designation  Joining.Designation  Quarterly.Rating  \\\n",
              "Emp_ID                                                                  \n",
              "1       28.000000          1.0                  1.0           2.00000   \n",
              "2       31.000000          2.0                  2.0           1.00000   \n",
              "4       43.000000          2.0                  2.0           1.00000   \n",
              "5       29.000000          1.0                  1.0           1.00000   \n",
              "6       31.000000          3.0                  3.0           1.60000   \n",
              "8       34.000000          3.0                  3.0           1.00000   \n",
              "11      28.000000          1.0                  1.0           1.00000   \n",
              "12      35.000000          1.0                  1.0           2.50000   \n",
              "13      29.608696          4.0                  1.0           1.26087   \n",
              "14      39.000000          3.0                  3.0           1.00000   \n",
              "\n",
              "        Total.Business.Value  Business.Value.Change    Salary LastWorkingDate  \\\n",
              "Emp_ID                                                                          \n",
              "1              571860.000000                -665480   57387.0      11.03.2016   \n",
              "2                   0.000000                      0   67016.0               0   \n",
              "4               70000.000000                 350000   65603.0      27.04.2017   \n",
              "5               40120.000000                 120360   46368.0      07.03.2016   \n",
              "6              253000.000000                1265000   78728.0               0   \n",
              "8                   0.000000                      0   70656.0      15.11.2017   \n",
              "11                  0.000000                      0   42172.0               0   \n",
              "12             434530.000000                2107180   28116.0      21.12.2016   \n",
              "13             444045.217391                9963040  119227.0      25.11.2017   \n",
              "14                  0.000000                      0   19734.0               0   \n",
              "\n",
              "       Dateofjoining City  Gender Education_Level  \n",
              "Emp_ID                                             \n",
              "1         24.12.2015  C23    Male          MASTER  \n",
              "2         06.11.2017   C7    Male          Master  \n",
              "4         07.12.2016  C13    Male          Master  \n",
              "5         09.01.2016   C9    Male          Colege  \n",
              "6         31.07.2017  C11  Female        Bachelor  \n",
              "8         19.09.2017   C2    Male          Colege  \n",
              "11        07.12.2017  C19  Female          Master  \n",
              "12        29.06.2016  C23    Male          Master  \n",
              "13        28.05.2012  C19    Male          Master  \n",
              "14        16.10.2017  C26  Female          Colege  "
            ],
            "text/html": [
              "\n",
              "  <div id=\"df-914646c0-00da-4c27-b888-8b6925e5bfc4\">\n",
              "    <div class=\"colab-df-container\">\n",
              "      <div>\n",
              "<style scoped>\n",
              "    .dataframe tbody tr th:only-of-type {\n",
              "        vertical-align: middle;\n",
              "    }\n",
              "\n",
              "    .dataframe tbody tr th {\n",
              "        vertical-align: top;\n",
              "    }\n",
              "\n",
              "    .dataframe thead th {\n",
              "        text-align: right;\n",
              "    }\n",
              "</style>\n",
              "<table border=\"1\" class=\"dataframe\">\n",
              "  <thead>\n",
              "    <tr style=\"text-align: right;\">\n",
              "      <th></th>\n",
              "      <th>Age</th>\n",
              "      <th>Designation</th>\n",
              "      <th>Joining.Designation</th>\n",
              "      <th>Quarterly.Rating</th>\n",
              "      <th>Total.Business.Value</th>\n",
              "      <th>Business.Value.Change</th>\n",
              "      <th>Salary</th>\n",
              "      <th>LastWorkingDate</th>\n",
              "      <th>Dateofjoining</th>\n",
              "      <th>City</th>\n",
              "      <th>Gender</th>\n",
              "      <th>Education_Level</th>\n",
              "    </tr>\n",
              "    <tr>\n",
              "      <th>Emp_ID</th>\n",
              "      <th></th>\n",
              "      <th></th>\n",
              "      <th></th>\n",
              "      <th></th>\n",
              "      <th></th>\n",
              "      <th></th>\n",
              "      <th></th>\n",
              "      <th></th>\n",
              "      <th></th>\n",
              "      <th></th>\n",
              "      <th></th>\n",
              "      <th></th>\n",
              "    </tr>\n",
              "  </thead>\n",
              "  <tbody>\n",
              "    <tr>\n",
              "      <th>1</th>\n",
              "      <td>28.000000</td>\n",
              "      <td>1.0</td>\n",
              "      <td>1.0</td>\n",
              "      <td>2.00000</td>\n",
              "      <td>571860.000000</td>\n",
              "      <td>-665480</td>\n",
              "      <td>57387.0</td>\n",
              "      <td>11.03.2016</td>\n",
              "      <td>24.12.2015</td>\n",
              "      <td>C23</td>\n",
              "      <td>Male</td>\n",
              "      <td>MASTER</td>\n",
              "    </tr>\n",
              "    <tr>\n",
              "      <th>2</th>\n",
              "      <td>31.000000</td>\n",
              "      <td>2.0</td>\n",
              "      <td>2.0</td>\n",
              "      <td>1.00000</td>\n",
              "      <td>0.000000</td>\n",
              "      <td>0</td>\n",
              "      <td>67016.0</td>\n",
              "      <td>0</td>\n",
              "      <td>06.11.2017</td>\n",
              "      <td>C7</td>\n",
              "      <td>Male</td>\n",
              "      <td>Master</td>\n",
              "    </tr>\n",
              "    <tr>\n",
              "      <th>4</th>\n",
              "      <td>43.000000</td>\n",
              "      <td>2.0</td>\n",
              "      <td>2.0</td>\n",
              "      <td>1.00000</td>\n",
              "      <td>70000.000000</td>\n",
              "      <td>350000</td>\n",
              "      <td>65603.0</td>\n",
              "      <td>27.04.2017</td>\n",
              "      <td>07.12.2016</td>\n",
              "      <td>C13</td>\n",
              "      <td>Male</td>\n",
              "      <td>Master</td>\n",
              "    </tr>\n",
              "    <tr>\n",
              "      <th>5</th>\n",
              "      <td>29.000000</td>\n",
              "      <td>1.0</td>\n",
              "      <td>1.0</td>\n",
              "      <td>1.00000</td>\n",
              "      <td>40120.000000</td>\n",
              "      <td>120360</td>\n",
              "      <td>46368.0</td>\n",
              "      <td>07.03.2016</td>\n",
              "      <td>09.01.2016</td>\n",
              "      <td>C9</td>\n",
              "      <td>Male</td>\n",
              "      <td>Colege</td>\n",
              "    </tr>\n",
              "    <tr>\n",
              "      <th>6</th>\n",
              "      <td>31.000000</td>\n",
              "      <td>3.0</td>\n",
              "      <td>3.0</td>\n",
              "      <td>1.60000</td>\n",
              "      <td>253000.000000</td>\n",
              "      <td>1265000</td>\n",
              "      <td>78728.0</td>\n",
              "      <td>0</td>\n",
              "      <td>31.07.2017</td>\n",
              "      <td>C11</td>\n",
              "      <td>Female</td>\n",
              "      <td>Bachelor</td>\n",
              "    </tr>\n",
              "    <tr>\n",
              "      <th>8</th>\n",
              "      <td>34.000000</td>\n",
              "      <td>3.0</td>\n",
              "      <td>3.0</td>\n",
              "      <td>1.00000</td>\n",
              "      <td>0.000000</td>\n",
              "      <td>0</td>\n",
              "      <td>70656.0</td>\n",
              "      <td>15.11.2017</td>\n",
              "      <td>19.09.2017</td>\n",
              "      <td>C2</td>\n",
              "      <td>Male</td>\n",
              "      <td>Colege</td>\n",
              "    </tr>\n",
              "    <tr>\n",
              "      <th>11</th>\n",
              "      <td>28.000000</td>\n",
              "      <td>1.0</td>\n",
              "      <td>1.0</td>\n",
              "      <td>1.00000</td>\n",
              "      <td>0.000000</td>\n",
              "      <td>0</td>\n",
              "      <td>42172.0</td>\n",
              "      <td>0</td>\n",
              "      <td>07.12.2017</td>\n",
              "      <td>C19</td>\n",
              "      <td>Female</td>\n",
              "      <td>Master</td>\n",
              "    </tr>\n",
              "    <tr>\n",
              "      <th>12</th>\n",
              "      <td>35.000000</td>\n",
              "      <td>1.0</td>\n",
              "      <td>1.0</td>\n",
              "      <td>2.50000</td>\n",
              "      <td>434530.000000</td>\n",
              "      <td>2107180</td>\n",
              "      <td>28116.0</td>\n",
              "      <td>21.12.2016</td>\n",
              "      <td>29.06.2016</td>\n",
              "      <td>C23</td>\n",
              "      <td>Male</td>\n",
              "      <td>Master</td>\n",
              "    </tr>\n",
              "    <tr>\n",
              "      <th>13</th>\n",
              "      <td>29.608696</td>\n",
              "      <td>4.0</td>\n",
              "      <td>1.0</td>\n",
              "      <td>1.26087</td>\n",
              "      <td>444045.217391</td>\n",
              "      <td>9963040</td>\n",
              "      <td>119227.0</td>\n",
              "      <td>25.11.2017</td>\n",
              "      <td>28.05.2012</td>\n",
              "      <td>C19</td>\n",
              "      <td>Male</td>\n",
              "      <td>Master</td>\n",
              "    </tr>\n",
              "    <tr>\n",
              "      <th>14</th>\n",
              "      <td>39.000000</td>\n",
              "      <td>3.0</td>\n",
              "      <td>3.0</td>\n",
              "      <td>1.00000</td>\n",
              "      <td>0.000000</td>\n",
              "      <td>0</td>\n",
              "      <td>19734.0</td>\n",
              "      <td>0</td>\n",
              "      <td>16.10.2017</td>\n",
              "      <td>C26</td>\n",
              "      <td>Female</td>\n",
              "      <td>Colege</td>\n",
              "    </tr>\n",
              "  </tbody>\n",
              "</table>\n",
              "</div>\n",
              "      <button class=\"colab-df-convert\" onclick=\"convertToInteractive('df-914646c0-00da-4c27-b888-8b6925e5bfc4')\"\n",
              "              title=\"Convert this dataframe to an interactive table.\"\n",
              "              style=\"display:none;\">\n",
              "        \n",
              "  <svg xmlns=\"http://www.w3.org/2000/svg\" height=\"24px\"viewBox=\"0 0 24 24\"\n",
              "       width=\"24px\">\n",
              "    <path d=\"M0 0h24v24H0V0z\" fill=\"none\"/>\n",
              "    <path d=\"M18.56 5.44l.94 2.06.94-2.06 2.06-.94-2.06-.94-.94-2.06-.94 2.06-2.06.94zm-11 1L8.5 8.5l.94-2.06 2.06-.94-2.06-.94L8.5 2.5l-.94 2.06-2.06.94zm10 10l.94 2.06.94-2.06 2.06-.94-2.06-.94-.94-2.06-.94 2.06-2.06.94z\"/><path d=\"M17.41 7.96l-1.37-1.37c-.4-.4-.92-.59-1.43-.59-.52 0-1.04.2-1.43.59L10.3 9.45l-7.72 7.72c-.78.78-.78 2.05 0 2.83L4 21.41c.39.39.9.59 1.41.59.51 0 1.02-.2 1.41-.59l7.78-7.78 2.81-2.81c.8-.78.8-2.07 0-2.86zM5.41 20L4 18.59l7.72-7.72 1.47 1.35L5.41 20z\"/>\n",
              "  </svg>\n",
              "      </button>\n",
              "      \n",
              "  <style>\n",
              "    .colab-df-container {\n",
              "      display:flex;\n",
              "      flex-wrap:wrap;\n",
              "      gap: 12px;\n",
              "    }\n",
              "\n",
              "    .colab-df-convert {\n",
              "      background-color: #E8F0FE;\n",
              "      border: none;\n",
              "      border-radius: 50%;\n",
              "      cursor: pointer;\n",
              "      display: none;\n",
              "      fill: #1967D2;\n",
              "      height: 32px;\n",
              "      padding: 0 0 0 0;\n",
              "      width: 32px;\n",
              "    }\n",
              "\n",
              "    .colab-df-convert:hover {\n",
              "      background-color: #E2EBFA;\n",
              "      box-shadow: 0px 1px 2px rgba(60, 64, 67, 0.3), 0px 1px 3px 1px rgba(60, 64, 67, 0.15);\n",
              "      fill: #174EA6;\n",
              "    }\n",
              "\n",
              "    [theme=dark] .colab-df-convert {\n",
              "      background-color: #3B4455;\n",
              "      fill: #D2E3FC;\n",
              "    }\n",
              "\n",
              "    [theme=dark] .colab-df-convert:hover {\n",
              "      background-color: #434B5C;\n",
              "      box-shadow: 0px 1px 3px 1px rgba(0, 0, 0, 0.15);\n",
              "      filter: drop-shadow(0px 1px 2px rgba(0, 0, 0, 0.3));\n",
              "      fill: #FFFFFF;\n",
              "    }\n",
              "  </style>\n",
              "\n",
              "      <script>\n",
              "        const buttonEl =\n",
              "          document.querySelector('#df-914646c0-00da-4c27-b888-8b6925e5bfc4 button.colab-df-convert');\n",
              "        buttonEl.style.display =\n",
              "          google.colab.kernel.accessAllowed ? 'block' : 'none';\n",
              "\n",
              "        async function convertToInteractive(key) {\n",
              "          const element = document.querySelector('#df-914646c0-00da-4c27-b888-8b6925e5bfc4');\n",
              "          const dataTable =\n",
              "            await google.colab.kernel.invokeFunction('convertToInteractive',\n",
              "                                                     [key], {});\n",
              "          if (!dataTable) return;\n",
              "\n",
              "          const docLinkHtml = 'Like what you see? Visit the ' +\n",
              "            '<a target=\"_blank\" href=https://colab.research.google.com/notebooks/data_table.ipynb>data table notebook</a>'\n",
              "            + ' to learn more about interactive tables.';\n",
              "          element.innerHTML = '';\n",
              "          dataTable['output_type'] = 'display_data';\n",
              "          await google.colab.output.renderOutput(dataTable, element);\n",
              "          const docLink = document.createElement('div');\n",
              "          docLink.innerHTML = docLinkHtml;\n",
              "          element.appendChild(docLink);\n",
              "        }\n",
              "      </script>\n",
              "    </div>\n",
              "  </div>\n",
              "  "
            ]
          },
          "metadata": {},
          "execution_count": 110
        }
      ]
    },
    {
      "cell_type": "markdown",
      "source": [
        "#### Porównania osób dalej pracujących w firmie do osób, które odeszły"
      ],
      "metadata": {
        "id": "rXwwOYCXfRms"
      }
    },
    {
      "cell_type": "code",
      "source": [
        "not_working = worker_summary[working['LastWorkingDate'] == 0]\n",
        "still_working = worker_summary[working['LastWorkingDate'] != 0]\n",
        "\n",
        "avg_still_working = still_working[['Age', 'Designation', 'Joining.Designation', 'Total.Business.Value', 'Quarterly.Rating', 'Business.Value.Change', 'Salary']].mean()\n",
        "avg_not_working = not_working[['Age', 'Designation', 'Joining.Designation', 'Total.Business.Value', 'Quarterly.Rating', 'Business.Value.Change', 'Salary']].mean()\n",
        "\n",
        "edu_count_still_working = still_working['Education_Level'].value_counts()\n",
        "master_still_working = edu_count_still_working['Master'] + edu_count_still_working['MASTER']\n",
        "bachelor_still_working = edu_count_still_working['Bachelor'] + edu_count_still_working[\"Bachelor's\"]\n",
        "college_still_working = edu_count_still_working['Colege'] + edu_count_still_working['College']\n",
        "\n",
        "edu_count_not_working = not_working['Education_Level'].value_counts()\n",
        "master_not_working = edu_count_not_working['Master'] + edu_count_not_working['MASTER']\n",
        "bachelor_not_working = edu_count_not_working['Bachelor'] + edu_count_not_working[\"Bachelor's\"]\n",
        "college_not_working = edu_count_not_working['Colege'] + edu_count_not_working['College']\n",
        "\n",
        "averages = {\n",
        "    'Status':['Pracujący', 'Niepracujący'],\n",
        "    'Number':[still_working.shape[0], not_working.shape[0]],\n",
        "    'Avg.Age':[avg_still_working['Age'], avg_not_working['Age']],\n",
        "    'Avg.Joining.Designation':[avg_still_working['Joining.Designation'], avg_not_working['Joining.Designation']],\n",
        "    'Avg.Designation':[avg_still_working['Designation'], avg_not_working['Designation']],\n",
        "    'Avg.Total.Business.Value':[avg_still_working['Total.Business.Value'], avg_not_working['Total.Business.Value']],\n",
        "    'Avg.Business.Value.Change':[avg_still_working['Business.Value.Change'], avg_not_working['Business.Value.Change']],\n",
        "    'Avg.Quarterly.Rating':[avg_still_working['Quarterly.Rating'], avg_not_working['Quarterly.Rating']],\n",
        "    'Avg.Salary':[avg_still_working['Salary'], avg_not_working['Salary']],\n",
        "    'Master_Count':[master_still_working, master_not_working],\n",
        "    '%master_of_all':[(master_still_working*100/still_working.shape[0]), (master_not_working*100/not_working.shape[0])],\n",
        "    'Bachelor_Count':[bachelor_still_working, bachelor_not_working],\n",
        "    '%bachelor_of_all':[(bachelor_still_working*100/still_working.shape[0]), (bachelor_not_working*100/not_working.shape[0])],\n",
        "    'College_Count':[college_still_working, college_not_working],\n",
        "    '%college_of_all':[(college_still_working*100/still_working.shape[0]), (college_not_working*100/not_working.shape[0])]      \n",
        "}\n",
        "\n",
        "averages_df = pd.DataFrame(averages)\n",
        "averages_df"
      ],
      "metadata": {
        "colab": {
          "base_uri": "https://localhost:8080/",
          "height": 176
        },
        "id": "90c_rH5B1eBl",
        "outputId": "9af765e8-7db7-4345-ac34-b924ffbf6904"
      },
      "execution_count": 111,
      "outputs": [
        {
          "output_type": "execute_result",
          "data": {
            "text/plain": [
              "         Status  Number    Avg.Age  Avg.Joining.Designation  Avg.Designation  \\\n",
              "0     Pracujący    1616  33.113327                 1.746287         1.948810   \n",
              "1  Niepracujący     765  33.910138                 1.976471         2.362476   \n",
              "\n",
              "   Avg.Total.Business.Value  Avg.Business.Value.Change  Avg.Quarterly.Rating  \\\n",
              "0             209995.428634               1.916412e+06              1.381335   \n",
              "1             526680.670742               9.171189e+06              1.956776   \n",
              "\n",
              "     Avg.Salary  Master_Count  %master_of_all  Bachelor_Count  \\\n",
              "0  55378.406438           547       33.849010             527   \n",
              "1  67373.887162           255       33.333333             268   \n",
              "\n",
              "   %bachelor_of_all  College_Count  %college_of_all  \n",
              "0         32.611386            542        33.539604  \n",
              "1         35.032680            242        31.633987  "
            ],
            "text/html": [
              "\n",
              "  <div id=\"df-b08c73d5-7464-4c06-a67a-644d4f152fc8\">\n",
              "    <div class=\"colab-df-container\">\n",
              "      <div>\n",
              "<style scoped>\n",
              "    .dataframe tbody tr th:only-of-type {\n",
              "        vertical-align: middle;\n",
              "    }\n",
              "\n",
              "    .dataframe tbody tr th {\n",
              "        vertical-align: top;\n",
              "    }\n",
              "\n",
              "    .dataframe thead th {\n",
              "        text-align: right;\n",
              "    }\n",
              "</style>\n",
              "<table border=\"1\" class=\"dataframe\">\n",
              "  <thead>\n",
              "    <tr style=\"text-align: right;\">\n",
              "      <th></th>\n",
              "      <th>Status</th>\n",
              "      <th>Number</th>\n",
              "      <th>Avg.Age</th>\n",
              "      <th>Avg.Joining.Designation</th>\n",
              "      <th>Avg.Designation</th>\n",
              "      <th>Avg.Total.Business.Value</th>\n",
              "      <th>Avg.Business.Value.Change</th>\n",
              "      <th>Avg.Quarterly.Rating</th>\n",
              "      <th>Avg.Salary</th>\n",
              "      <th>Master_Count</th>\n",
              "      <th>%master_of_all</th>\n",
              "      <th>Bachelor_Count</th>\n",
              "      <th>%bachelor_of_all</th>\n",
              "      <th>College_Count</th>\n",
              "      <th>%college_of_all</th>\n",
              "    </tr>\n",
              "  </thead>\n",
              "  <tbody>\n",
              "    <tr>\n",
              "      <th>0</th>\n",
              "      <td>Pracujący</td>\n",
              "      <td>1616</td>\n",
              "      <td>33.113327</td>\n",
              "      <td>1.746287</td>\n",
              "      <td>1.948810</td>\n",
              "      <td>209995.428634</td>\n",
              "      <td>1.916412e+06</td>\n",
              "      <td>1.381335</td>\n",
              "      <td>55378.406438</td>\n",
              "      <td>547</td>\n",
              "      <td>33.849010</td>\n",
              "      <td>527</td>\n",
              "      <td>32.611386</td>\n",
              "      <td>542</td>\n",
              "      <td>33.539604</td>\n",
              "    </tr>\n",
              "    <tr>\n",
              "      <th>1</th>\n",
              "      <td>Niepracujący</td>\n",
              "      <td>765</td>\n",
              "      <td>33.910138</td>\n",
              "      <td>1.976471</td>\n",
              "      <td>2.362476</td>\n",
              "      <td>526680.670742</td>\n",
              "      <td>9.171189e+06</td>\n",
              "      <td>1.956776</td>\n",
              "      <td>67373.887162</td>\n",
              "      <td>255</td>\n",
              "      <td>33.333333</td>\n",
              "      <td>268</td>\n",
              "      <td>35.032680</td>\n",
              "      <td>242</td>\n",
              "      <td>31.633987</td>\n",
              "    </tr>\n",
              "  </tbody>\n",
              "</table>\n",
              "</div>\n",
              "      <button class=\"colab-df-convert\" onclick=\"convertToInteractive('df-b08c73d5-7464-4c06-a67a-644d4f152fc8')\"\n",
              "              title=\"Convert this dataframe to an interactive table.\"\n",
              "              style=\"display:none;\">\n",
              "        \n",
              "  <svg xmlns=\"http://www.w3.org/2000/svg\" height=\"24px\"viewBox=\"0 0 24 24\"\n",
              "       width=\"24px\">\n",
              "    <path d=\"M0 0h24v24H0V0z\" fill=\"none\"/>\n",
              "    <path d=\"M18.56 5.44l.94 2.06.94-2.06 2.06-.94-2.06-.94-.94-2.06-.94 2.06-2.06.94zm-11 1L8.5 8.5l.94-2.06 2.06-.94-2.06-.94L8.5 2.5l-.94 2.06-2.06.94zm10 10l.94 2.06.94-2.06 2.06-.94-2.06-.94-.94-2.06-.94 2.06-2.06.94z\"/><path d=\"M17.41 7.96l-1.37-1.37c-.4-.4-.92-.59-1.43-.59-.52 0-1.04.2-1.43.59L10.3 9.45l-7.72 7.72c-.78.78-.78 2.05 0 2.83L4 21.41c.39.39.9.59 1.41.59.51 0 1.02-.2 1.41-.59l7.78-7.78 2.81-2.81c.8-.78.8-2.07 0-2.86zM5.41 20L4 18.59l7.72-7.72 1.47 1.35L5.41 20z\"/>\n",
              "  </svg>\n",
              "      </button>\n",
              "      \n",
              "  <style>\n",
              "    .colab-df-container {\n",
              "      display:flex;\n",
              "      flex-wrap:wrap;\n",
              "      gap: 12px;\n",
              "    }\n",
              "\n",
              "    .colab-df-convert {\n",
              "      background-color: #E8F0FE;\n",
              "      border: none;\n",
              "      border-radius: 50%;\n",
              "      cursor: pointer;\n",
              "      display: none;\n",
              "      fill: #1967D2;\n",
              "      height: 32px;\n",
              "      padding: 0 0 0 0;\n",
              "      width: 32px;\n",
              "    }\n",
              "\n",
              "    .colab-df-convert:hover {\n",
              "      background-color: #E2EBFA;\n",
              "      box-shadow: 0px 1px 2px rgba(60, 64, 67, 0.3), 0px 1px 3px 1px rgba(60, 64, 67, 0.15);\n",
              "      fill: #174EA6;\n",
              "    }\n",
              "\n",
              "    [theme=dark] .colab-df-convert {\n",
              "      background-color: #3B4455;\n",
              "      fill: #D2E3FC;\n",
              "    }\n",
              "\n",
              "    [theme=dark] .colab-df-convert:hover {\n",
              "      background-color: #434B5C;\n",
              "      box-shadow: 0px 1px 3px 1px rgba(0, 0, 0, 0.15);\n",
              "      filter: drop-shadow(0px 1px 2px rgba(0, 0, 0, 0.3));\n",
              "      fill: #FFFFFF;\n",
              "    }\n",
              "  </style>\n",
              "\n",
              "      <script>\n",
              "        const buttonEl =\n",
              "          document.querySelector('#df-b08c73d5-7464-4c06-a67a-644d4f152fc8 button.colab-df-convert');\n",
              "        buttonEl.style.display =\n",
              "          google.colab.kernel.accessAllowed ? 'block' : 'none';\n",
              "\n",
              "        async function convertToInteractive(key) {\n",
              "          const element = document.querySelector('#df-b08c73d5-7464-4c06-a67a-644d4f152fc8');\n",
              "          const dataTable =\n",
              "            await google.colab.kernel.invokeFunction('convertToInteractive',\n",
              "                                                     [key], {});\n",
              "          if (!dataTable) return;\n",
              "\n",
              "          const docLinkHtml = 'Like what you see? Visit the ' +\n",
              "            '<a target=\"_blank\" href=https://colab.research.google.com/notebooks/data_table.ipynb>data table notebook</a>'\n",
              "            + ' to learn more about interactive tables.';\n",
              "          element.innerHTML = '';\n",
              "          dataTable['output_type'] = 'display_data';\n",
              "          await google.colab.output.renderOutput(dataTable, element);\n",
              "          const docLink = document.createElement('div');\n",
              "          docLink.innerHTML = docLinkHtml;\n",
              "          element.appendChild(docLink);\n",
              "        }\n",
              "      </script>\n",
              "    </div>\n",
              "  </div>\n",
              "  "
            ]
          },
          "metadata": {},
          "execution_count": 111
        }
      ]
    },
    {
      "cell_type": "markdown",
      "source": [
        "#### Przedstawienie otrzymanych danych w postaci wykresów"
      ],
      "metadata": {
        "id": "24PUNqUN2Qdi"
      }
    },
    {
      "cell_type": "code",
      "source": [
        "plt.bar(averages_df['Status'], averages_df['Avg.Joining.Designation'], width = 0.4)\n",
        "plt.title(\"Średni poziom kwalifikacji podczas rekrutacji\")\n",
        "plt.ylabel(\"Poziom kwalifikacji\")"
      ],
      "metadata": {
        "colab": {
          "base_uri": "https://localhost:8080/",
          "height": 301
        },
        "id": "gleuDCYy2YEI",
        "outputId": "ad4247f0-4131-4ba9-a000-c2ec8b050b79"
      },
      "execution_count": 112,
      "outputs": [
        {
          "output_type": "execute_result",
          "data": {
            "text/plain": [
              "Text(0, 0.5, 'Poziom kwalifikacji')"
            ]
          },
          "metadata": {},
          "execution_count": 112
        },
        {
          "output_type": "display_data",
          "data": {
            "text/plain": [
              "<Figure size 432x288 with 1 Axes>"
            ],
            "image/png": "[encoded data removed]"
          },
          "metadata": {
            "needs_background": "light"
          }
        }
      ]
    },
    {
      "cell_type": "code",
      "source": [
        "plt.bar(averages_df['Status'], averages_df['Avg.Designation'], width = 0.4, color = 'green')\n",
        "plt.title(\"Średni poziom kwalifikacji\")\n",
        "plt.ylabel(\"Poziom kwalifikacji\")"
      ],
      "metadata": {
        "colab": {
          "base_uri": "https://localhost:8080/",
          "height": 301
        },
        "id": "xq4TdO4i2fvs",
        "outputId": "0bb6dfc5-1b80-4811-a0e9-b05ff08e3665"
      },
      "execution_count": 113,
      "outputs": [
        {
          "output_type": "execute_result",
          "data": {
            "text/plain": [
              "Text(0, 0.5, 'Poziom kwalifikacji')"
            ]
          },
          "metadata": {},
          "execution_count": 113
        },
        {
          "output_type": "display_data",
          "data": {
            "text/plain": [
              "<Figure size 432x288 with 1 Axes>"
            ],
            "image/png": "[encoded data removed]"
          },
          "metadata": {
            "needs_background": "light"
          }
        }
      ]
    },
    {
      "cell_type": "code",
      "source": [
        "plt.bar(averages_df['Status'], averages_df['Avg.Total.Business.Value'], width = 0.4, color ='red')\n",
        "plt.title(\"Średnia wartość biznesowa\")\n",
        "plt.ylabel(\"Wartość biznesowa KPI\")"
      ],
      "metadata": {
        "colab": {
          "base_uri": "https://localhost:8080/",
          "height": 299
        },
        "id": "7Fnq7DOQ2ngx",
        "outputId": "86dbe041-7e6d-43b2-a99e-65920adb047e"
      },
      "execution_count": 114,
      "outputs": [
        {
          "output_type": "execute_result",
          "data": {
            "text/plain": [
              "Text(0, 0.5, 'Wartość biznesowa KPI')"
            ]
          },
          "metadata": {},
          "execution_count": 114
        },
        {
          "output_type": "display_data",
          "data": {
            "text/plain": [
              "<Figure size 432x288 with 1 Axes>"
            ],
            "image/png": "[encoded data removed]"
          },
          "metadata": {
            "needs_background": "light"
          }
        }
      ]
    },
    {
      "cell_type": "code",
      "source": [
        "plt.bar(averages_df['Status'], averages_df['Avg.Business.Value.Change'], width = 0.4, color ='orange')\n",
        "plt.title(\"Średnia zmiana wartości biznesowej\")\n",
        "plt.ylabel(\"Zmiana wartości biznesowej KPI\")"
      ],
      "metadata": {
        "colab": {
          "base_uri": "https://localhost:8080/",
          "height": 301
        },
        "id": "EKmUgOia3t1H",
        "outputId": "e970da28-bf10-475a-8955-b4a240a900ef"
      },
      "execution_count": 115,
      "outputs": [
        {
          "output_type": "execute_result",
          "data": {
            "text/plain": [
              "Text(0, 0.5, 'Zmiana wartości biznesowej KPI')"
            ]
          },
          "metadata": {},
          "execution_count": 115
        },
        {
          "output_type": "display_data",
          "data": {
            "text/plain": [
              "<Figure size 432x288 with 1 Axes>"
            ],
            "image/png": "[encoded data removed]"
          },
          "metadata": {
            "needs_background": "light"
          }
        }
      ]
    },
    {
      "cell_type": "code",
      "source": [
        "plt.bar(averages_df['Status'], averages_df['Avg.Quarterly.Rating'], width = 0.4, color = 'violet')\n",
        "plt.title(\"Średnia ocena kwartalna\")\n",
        "plt.ylabel(\"Ocena kwartalna\")"
      ],
      "metadata": {
        "colab": {
          "base_uri": "https://localhost:8080/",
          "height": 299
        },
        "id": "6bvKgbfr2ssg",
        "outputId": "f11dfdb4-2c5d-4f36-974d-3ec552f265ab"
      },
      "execution_count": 116,
      "outputs": [
        {
          "output_type": "execute_result",
          "data": {
            "text/plain": [
              "Text(0, 0.5, 'Ocena kwartalna')"
            ]
          },
          "metadata": {},
          "execution_count": 116
        },
        {
          "output_type": "display_data",
          "data": {
            "text/plain": [
              "<Figure size 432x288 with 1 Axes>"
            ],
            "image/png": "[encoded data removed]"
          },
          "metadata": {
            "needs_background": "light"
          }
        }
      ]
    },
    {
      "cell_type": "code",
      "source": [
        "plt.bar(averages_df['Status'], averages_df['Avg.Salary'], width = 0.4, color = 'pink')\n",
        "plt.title(\"Średnia pensja\")\n",
        "plt.ylabel(\"Pensja [USD]\")"
      ],
      "metadata": {
        "colab": {
          "base_uri": "https://localhost:8080/",
          "height": 301
        },
        "id": "UEEIICAB2xjj",
        "outputId": "2811d156-5e3c-437d-9944-2601653c1122"
      },
      "execution_count": 117,
      "outputs": [
        {
          "output_type": "execute_result",
          "data": {
            "text/plain": [
              "Text(0, 0.5, 'Pensja [USD]')"
            ]
          },
          "metadata": {},
          "execution_count": 117
        },
        {
          "output_type": "display_data",
          "data": {
            "text/plain": [
              "<Figure size 432x288 with 1 Axes>"
            ],
            "image/png": "[encoded data removed]"
          },
          "metadata": {
            "needs_background": "light"
          }
        }
      ]
    },
    {
      "cell_type": "markdown",
      "source": [
        "### Wnioski\n",
        "Na podstawie wykresów można stwierdzić, że pracownicy, którzy odeszli, posiadali wyższe kwalifikacje niż pracownicy, którzy nadal pracują w firmie.\n",
        "Wartość biznesowa, ocena kwartalna i poziom kwalifikacji pracowników, którzy odeszli, jest wyższy od tych wartości u pracowników nadal zatrudnionych. \n",
        "Średnia pensja pracowników, którzy odeszli, jest wyższa niż pracowników nadal zatrudnionych, jednak ta różnica jest nieproporcjonalna w porównaniu do różnicy w wartości biznesowej i ocenie kwartalnej. Pracownicy, którzy osiągają wysokie wyniki i otrzymują pensję nieproporcjonalną do ich wyników, mają największe szanse na opuszczenie firmy w najbliższym czasie."
      ],
      "metadata": {
        "id": "YkWwfs7P25DQ"
      }
    },
    {
      "cell_type": "markdown",
      "source": [
        "## Analiza zawartości pliku Cities_map.csv"
      ],
      "metadata": {
        "id": "EhbVUkbRfdcC"
      }
    },
    {
      "cell_type": "code",
      "source": [
        "Cities_map.head(10)"
      ],
      "metadata": {
        "id": "qpTH8HYW5aYk",
        "colab": {
          "base_uri": "https://localhost:8080/",
          "height": 363
        },
        "outputId": "5f375acb-33ac-4838-d4e2-40ae10e13684"
      },
      "execution_count": 118,
      "outputs": [
        {
          "output_type": "execute_result",
          "data": {
            "text/plain": [
              "  City_ID   City_Name\n",
              "0     C01      Austin\n",
              "1     C02      Boston\n",
              "2     C03   Charlotte\n",
              "3     C04     Chicago\n",
              "4     C05    Columbus\n",
              "5     C06      Dallas\n",
              "6     C07      Denver\n",
              "7     C08     Detroit\n",
              "8     C09     El Paso\n",
              "9     C10  Fort Worth"
            ],
            "text/html": [
              "\n",
              "  <div id=\"df-cde574a6-0fff-48b1-87ee-71bbf7b95d4f\">\n",
              "    <div class=\"colab-df-container\">\n",
              "      <div>\n",
              "<style scoped>\n",
              "    .dataframe tbody tr th:only-of-type {\n",
              "        vertical-align: middle;\n",
              "    }\n",
              "\n",
              "    .dataframe tbody tr th {\n",
              "        vertical-align: top;\n",
              "    }\n",
              "\n",
              "    .dataframe thead th {\n",
              "        text-align: right;\n",
              "    }\n",
              "</style>\n",
              "<table border=\"1\" class=\"dataframe\">\n",
              "  <thead>\n",
              "    <tr style=\"text-align: right;\">\n",
              "      <th></th>\n",
              "      <th>City_ID</th>\n",
              "      <th>City_Name</th>\n",
              "    </tr>\n",
              "  </thead>\n",
              "  <tbody>\n",
              "    <tr>\n",
              "      <th>0</th>\n",
              "      <td>C01</td>\n",
              "      <td>Austin</td>\n",
              "    </tr>\n",
              "    <tr>\n",
              "      <th>1</th>\n",
              "      <td>C02</td>\n",
              "      <td>Boston</td>\n",
              "    </tr>\n",
              "    <tr>\n",
              "      <th>2</th>\n",
              "      <td>C03</td>\n",
              "      <td>Charlotte</td>\n",
              "    </tr>\n",
              "    <tr>\n",
              "      <th>3</th>\n",
              "      <td>C04</td>\n",
              "      <td>Chicago</td>\n",
              "    </tr>\n",
              "    <tr>\n",
              "      <th>4</th>\n",
              "      <td>C05</td>\n",
              "      <td>Columbus</td>\n",
              "    </tr>\n",
              "    <tr>\n",
              "      <th>5</th>\n",
              "      <td>C06</td>\n",
              "      <td>Dallas</td>\n",
              "    </tr>\n",
              "    <tr>\n",
              "      <th>6</th>\n",
              "      <td>C07</td>\n",
              "      <td>Denver</td>\n",
              "    </tr>\n",
              "    <tr>\n",
              "      <th>7</th>\n",
              "      <td>C08</td>\n",
              "      <td>Detroit</td>\n",
              "    </tr>\n",
              "    <tr>\n",
              "      <th>8</th>\n",
              "      <td>C09</td>\n",
              "      <td>El Paso</td>\n",
              "    </tr>\n",
              "    <tr>\n",
              "      <th>9</th>\n",
              "      <td>C10</td>\n",
              "      <td>Fort Worth</td>\n",
              "    </tr>\n",
              "  </tbody>\n",
              "</table>\n",
              "</div>\n",
              "      <button class=\"colab-df-convert\" onclick=\"convertToInteractive('df-cde574a6-0fff-48b1-87ee-71bbf7b95d4f')\"\n",
              "              title=\"Convert this dataframe to an interactive table.\"\n",
              "              style=\"display:none;\">\n",
              "        \n",
              "  <svg xmlns=\"http://www.w3.org/2000/svg\" height=\"24px\"viewBox=\"0 0 24 24\"\n",
              "       width=\"24px\">\n",
              "    <path d=\"M0 0h24v24H0V0z\" fill=\"none\"/>\n",
              "    <path d=\"M18.56 5.44l.94 2.06.94-2.06 2.06-.94-2.06-.94-.94-2.06-.94 2.06-2.06.94zm-11 1L8.5 8.5l.94-2.06 2.06-.94-2.06-.94L8.5 2.5l-.94 2.06-2.06.94zm10 10l.94 2.06.94-2.06 2.06-.94-2.06-.94-.94-2.06-.94 2.06-2.06.94z\"/><path d=\"M17.41 7.96l-1.37-1.37c-.4-.4-.92-.59-1.43-.59-.52 0-1.04.2-1.43.59L10.3 9.45l-7.72 7.72c-.78.78-.78 2.05 0 2.83L4 21.41c.39.39.9.59 1.41.59.51 0 1.02-.2 1.41-.59l7.78-7.78 2.81-2.81c.8-.78.8-2.07 0-2.86zM5.41 20L4 18.59l7.72-7.72 1.47 1.35L5.41 20z\"/>\n",
              "  </svg>\n",
              "      </button>\n",
              "      \n",
              "  <style>\n",
              "    .colab-df-container {\n",
              "      display:flex;\n",
              "      flex-wrap:wrap;\n",
              "      gap: 12px;\n",
              "    }\n",
              "\n",
              "    .colab-df-convert {\n",
              "      background-color: #E8F0FE;\n",
              "      border: none;\n",
              "      border-radius: 50%;\n",
              "      cursor: pointer;\n",
              "      display: none;\n",
              "      fill: #1967D2;\n",
              "      height: 32px;\n",
              "      padding: 0 0 0 0;\n",
              "      width: 32px;\n",
              "    }\n",
              "\n",
              "    .colab-df-convert:hover {\n",
              "      background-color: #E2EBFA;\n",
              "      box-shadow: 0px 1px 2px rgba(60, 64, 67, 0.3), 0px 1px 3px 1px rgba(60, 64, 67, 0.15);\n",
              "      fill: #174EA6;\n",
              "    }\n",
              "\n",
              "    [theme=dark] .colab-df-convert {\n",
              "      background-color: #3B4455;\n",
              "      fill: #D2E3FC;\n",
              "    }\n",
              "\n",
              "    [theme=dark] .colab-df-convert:hover {\n",
              "      background-color: #434B5C;\n",
              "      box-shadow: 0px 1px 3px 1px rgba(0, 0, 0, 0.15);\n",
              "      filter: drop-shadow(0px 1px 2px rgba(0, 0, 0, 0.3));\n",
              "      fill: #FFFFFF;\n",
              "    }\n",
              "  </style>\n",
              "\n",
              "      <script>\n",
              "        const buttonEl =\n",
              "          document.querySelector('#df-cde574a6-0fff-48b1-87ee-71bbf7b95d4f button.colab-df-convert');\n",
              "        buttonEl.style.display =\n",
              "          google.colab.kernel.accessAllowed ? 'block' : 'none';\n",
              "\n",
              "        async function convertToInteractive(key) {\n",
              "          const element = document.querySelector('#df-cde574a6-0fff-48b1-87ee-71bbf7b95d4f');\n",
              "          const dataTable =\n",
              "            await google.colab.kernel.invokeFunction('convertToInteractive',\n",
              "                                                     [key], {});\n",
              "          if (!dataTable) return;\n",
              "\n",
              "          const docLinkHtml = 'Like what you see? Visit the ' +\n",
              "            '<a target=\"_blank\" href=https://colab.research.google.com/notebooks/data_table.ipynb>data table notebook</a>'\n",
              "            + ' to learn more about interactive tables.';\n",
              "          element.innerHTML = '';\n",
              "          dataTable['output_type'] = 'display_data';\n",
              "          await google.colab.output.renderOutput(dataTable, element);\n",
              "          const docLink = document.createElement('div');\n",
              "          docLink.innerHTML = docLinkHtml;\n",
              "          element.appendChild(docLink);\n",
              "        }\n",
              "      </script>\n",
              "    </div>\n",
              "  </div>\n",
              "  "
            ]
          },
          "metadata": {},
          "execution_count": 118
        }
      ]
    },
    {
      "cell_type": "markdown",
      "source": [
        "#### Ujednolicenie City_ID miedzy ramkami danych"
      ],
      "metadata": {
        "id": "ejyh9nMJAraJ"
      }
    },
    {
      "cell_type": "code",
      "source": [
        "for i in range(9):\n",
        "  j = str(i+1)\n",
        "  Cities_map['City_ID'][i] = str(\"C\"+j)\n",
        "Cities_map.head(10)"
      ],
      "metadata": {
        "id": "r_aUD5mm5_Fy",
        "colab": {
          "base_uri": "https://localhost:8080/",
          "height": 363
        },
        "outputId": "dc17d679-e842-407b-880c-77c22e8be2e1"
      },
      "execution_count": 119,
      "outputs": [
        {
          "output_type": "execute_result",
          "data": {
            "text/plain": [
              "  City_ID   City_Name\n",
              "0      C1      Austin\n",
              "1      C2      Boston\n",
              "2      C3   Charlotte\n",
              "3      C4     Chicago\n",
              "4      C5    Columbus\n",
              "5      C6      Dallas\n",
              "6      C7      Denver\n",
              "7      C8     Detroit\n",
              "8      C9     El Paso\n",
              "9     C10  Fort Worth"
            ],
            "text/html": [
              "\n",
              "  <div id=\"df-4a927c61-6698-4aed-9d8a-b908d3a6e847\">\n",
              "    <div class=\"colab-df-container\">\n",
              "      <div>\n",
              "<style scoped>\n",
              "    .dataframe tbody tr th:only-of-type {\n",
              "        vertical-align: middle;\n",
              "    }\n",
              "\n",
              "    .dataframe tbody tr th {\n",
              "        vertical-align: top;\n",
              "    }\n",
              "\n",
              "    .dataframe thead th {\n",
              "        text-align: right;\n",
              "    }\n",
              "</style>\n",
              "<table border=\"1\" class=\"dataframe\">\n",
              "  <thead>\n",
              "    <tr style=\"text-align: right;\">\n",
              "      <th></th>\n",
              "      <th>City_ID</th>\n",
              "      <th>City_Name</th>\n",
              "    </tr>\n",
              "  </thead>\n",
              "  <tbody>\n",
              "    <tr>\n",
              "      <th>0</th>\n",
              "      <td>C1</td>\n",
              "      <td>Austin</td>\n",
              "    </tr>\n",
              "    <tr>\n",
              "      <th>1</th>\n",
              "      <td>C2</td>\n",
              "      <td>Boston</td>\n",
              "    </tr>\n",
              "    <tr>\n",
              "      <th>2</th>\n",
              "      <td>C3</td>\n",
              "      <td>Charlotte</td>\n",
              "    </tr>\n",
              "    <tr>\n",
              "      <th>3</th>\n",
              "      <td>C4</td>\n",
              "      <td>Chicago</td>\n",
              "    </tr>\n",
              "    <tr>\n",
              "      <th>4</th>\n",
              "      <td>C5</td>\n",
              "      <td>Columbus</td>\n",
              "    </tr>\n",
              "    <tr>\n",
              "      <th>5</th>\n",
              "      <td>C6</td>\n",
              "      <td>Dallas</td>\n",
              "    </tr>\n",
              "    <tr>\n",
              "      <th>6</th>\n",
              "      <td>C7</td>\n",
              "      <td>Denver</td>\n",
              "    </tr>\n",
              "    <tr>\n",
              "      <th>7</th>\n",
              "      <td>C8</td>\n",
              "      <td>Detroit</td>\n",
              "    </tr>\n",
              "    <tr>\n",
              "      <th>8</th>\n",
              "      <td>C9</td>\n",
              "      <td>El Paso</td>\n",
              "    </tr>\n",
              "    <tr>\n",
              "      <th>9</th>\n",
              "      <td>C10</td>\n",
              "      <td>Fort Worth</td>\n",
              "    </tr>\n",
              "  </tbody>\n",
              "</table>\n",
              "</div>\n",
              "      <button class=\"colab-df-convert\" onclick=\"convertToInteractive('df-4a927c61-6698-4aed-9d8a-b908d3a6e847')\"\n",
              "              title=\"Convert this dataframe to an interactive table.\"\n",
              "              style=\"display:none;\">\n",
              "        \n",
              "  <svg xmlns=\"http://www.w3.org/2000/svg\" height=\"24px\"viewBox=\"0 0 24 24\"\n",
              "       width=\"24px\">\n",
              "    <path d=\"M0 0h24v24H0V0z\" fill=\"none\"/>\n",
              "    <path d=\"M18.56 5.44l.94 2.06.94-2.06 2.06-.94-2.06-.94-.94-2.06-.94 2.06-2.06.94zm-11 1L8.5 8.5l.94-2.06 2.06-.94-2.06-.94L8.5 2.5l-.94 2.06-2.06.94zm10 10l.94 2.06.94-2.06 2.06-.94-2.06-.94-.94-2.06-.94 2.06-2.06.94z\"/><path d=\"M17.41 7.96l-1.37-1.37c-.4-.4-.92-.59-1.43-.59-.52 0-1.04.2-1.43.59L10.3 9.45l-7.72 7.72c-.78.78-.78 2.05 0 2.83L4 21.41c.39.39.9.59 1.41.59.51 0 1.02-.2 1.41-.59l7.78-7.78 2.81-2.81c.8-.78.8-2.07 0-2.86zM5.41 20L4 18.59l7.72-7.72 1.47 1.35L5.41 20z\"/>\n",
              "  </svg>\n",
              "      </button>\n",
              "      \n",
              "  <style>\n",
              "    .colab-df-container {\n",
              "      display:flex;\n",
              "      flex-wrap:wrap;\n",
              "      gap: 12px;\n",
              "    }\n",
              "\n",
              "    .colab-df-convert {\n",
              "      background-color: #E8F0FE;\n",
              "      border: none;\n",
              "      border-radius: 50%;\n",
              "      cursor: pointer;\n",
              "      display: none;\n",
              "      fill: #1967D2;\n",
              "      height: 32px;\n",
              "      padding: 0 0 0 0;\n",
              "      width: 32px;\n",
              "    }\n",
              "\n",
              "    .colab-df-convert:hover {\n",
              "      background-color: #E2EBFA;\n",
              "      box-shadow: 0px 1px 2px rgba(60, 64, 67, 0.3), 0px 1px 3px 1px rgba(60, 64, 67, 0.15);\n",
              "      fill: #174EA6;\n",
              "    }\n",
              "\n",
              "    [theme=dark] .colab-df-convert {\n",
              "      background-color: #3B4455;\n",
              "      fill: #D2E3FC;\n",
              "    }\n",
              "\n",
              "    [theme=dark] .colab-df-convert:hover {\n",
              "      background-color: #434B5C;\n",
              "      box-shadow: 0px 1px 3px 1px rgba(0, 0, 0, 0.15);\n",
              "      filter: drop-shadow(0px 1px 2px rgba(0, 0, 0, 0.3));\n",
              "      fill: #FFFFFF;\n",
              "    }\n",
              "  </style>\n",
              "\n",
              "      <script>\n",
              "        const buttonEl =\n",
              "          document.querySelector('#df-4a927c61-6698-4aed-9d8a-b908d3a6e847 button.colab-df-convert');\n",
              "        buttonEl.style.display =\n",
              "          google.colab.kernel.accessAllowed ? 'block' : 'none';\n",
              "\n",
              "        async function convertToInteractive(key) {\n",
              "          const element = document.querySelector('#df-4a927c61-6698-4aed-9d8a-b908d3a6e847');\n",
              "          const dataTable =\n",
              "            await google.colab.kernel.invokeFunction('convertToInteractive',\n",
              "                                                     [key], {});\n",
              "          if (!dataTable) return;\n",
              "\n",
              "          const docLinkHtml = 'Like what you see? Visit the ' +\n",
              "            '<a target=\"_blank\" href=https://colab.research.google.com/notebooks/data_table.ipynb>data table notebook</a>'\n",
              "            + ' to learn more about interactive tables.';\n",
              "          element.innerHTML = '';\n",
              "          dataTable['output_type'] = 'display_data';\n",
              "          await google.colab.output.renderOutput(dataTable, element);\n",
              "          const docLink = document.createElement('div');\n",
              "          docLink.innerHTML = docLinkHtml;\n",
              "          element.appendChild(docLink);\n",
              "        }\n",
              "      </script>\n",
              "    </div>\n",
              "  </div>\n",
              "  "
            ]
          },
          "metadata": {},
          "execution_count": 119
        }
      ]
    },
    {
      "cell_type": "markdown",
      "source": [
        "#### Przedstawienie podstawowych informacji"
      ],
      "metadata": {
        "id": "hxE4mqF0Ayro"
      }
    },
    {
      "cell_type": "code",
      "source": [
        "Cities_map.info()"
      ],
      "metadata": {
        "id": "2Y3839h46MUT",
        "colab": {
          "base_uri": "https://localhost:8080/"
        },
        "outputId": "b1412734-ce24-41be-de60-89903edba643"
      },
      "execution_count": 120,
      "outputs": [
        {
          "output_type": "stream",
          "name": "stdout",
          "text": [
            "<class 'pandas.core.frame.DataFrame'>\n",
            "RangeIndex: 29 entries, 0 to 28\n",
            "Data columns (total 2 columns):\n",
            " #   Column     Non-Null Count  Dtype \n",
            "---  ------     --------------  ----- \n",
            " 0   City_ID    29 non-null     object\n",
            " 1   City_Name  29 non-null     object\n",
            "dtypes: object(2)\n",
            "memory usage: 592.0+ bytes\n"
          ]
        }
      ]
    },
    {
      "cell_type": "code",
      "source": [
        "Cities_map.shape"
      ],
      "metadata": {
        "id": "o7T2eEWE6QqE",
        "colab": {
          "base_uri": "https://localhost:8080/"
        },
        "outputId": "ad65d752-e0e4-48c9-9a72-f69310ab6764"
      },
      "execution_count": 121,
      "outputs": [
        {
          "output_type": "execute_result",
          "data": {
            "text/plain": [
              "(29, 2)"
            ]
          },
          "metadata": {},
          "execution_count": 121
        }
      ]
    },
    {
      "cell_type": "code",
      "source": [
        "still_working['City'].describe()"
      ],
      "metadata": {
        "id": "42R6GayK6Y67",
        "colab": {
          "base_uri": "https://localhost:8080/"
        },
        "outputId": "ee231474-23b2-4255-dfb1-84354a8ffda5"
      },
      "execution_count": 122,
      "outputs": [
        {
          "output_type": "execute_result",
          "data": {
            "text/plain": [
              "count     1616\n",
              "unique      29\n",
              "top        C20\n",
              "freq       111\n",
              "Name: City, dtype: object"
            ]
          },
          "metadata": {},
          "execution_count": 122
        }
      ]
    },
    {
      "cell_type": "code",
      "source": [
        "Cities_map[Cities_map['City_ID']=='C20']"
      ],
      "metadata": {
        "colab": {
          "base_uri": "https://localhost:8080/",
          "height": 81
        },
        "id": "Plb5oFJSvwG9",
        "outputId": "4fe306a6-37bb-4fbd-813e-d6b1d2cc8d07"
      },
      "execution_count": 123,
      "outputs": [
        {
          "output_type": "execute_result",
          "data": {
            "text/plain": [
              "   City_ID      City_Name\n",
              "19     C20  Oklahoma City"
            ],
            "text/html": [
              "\n",
              "  <div id=\"df-4a9e0b3d-59ae-4035-8e8c-f41e4982f5e7\">\n",
              "    <div class=\"colab-df-container\">\n",
              "      <div>\n",
              "<style scoped>\n",
              "    .dataframe tbody tr th:only-of-type {\n",
              "        vertical-align: middle;\n",
              "    }\n",
              "\n",
              "    .dataframe tbody tr th {\n",
              "        vertical-align: top;\n",
              "    }\n",
              "\n",
              "    .dataframe thead th {\n",
              "        text-align: right;\n",
              "    }\n",
              "</style>\n",
              "<table border=\"1\" class=\"dataframe\">\n",
              "  <thead>\n",
              "    <tr style=\"text-align: right;\">\n",
              "      <th></th>\n",
              "      <th>City_ID</th>\n",
              "      <th>City_Name</th>\n",
              "    </tr>\n",
              "  </thead>\n",
              "  <tbody>\n",
              "    <tr>\n",
              "      <th>19</th>\n",
              "      <td>C20</td>\n",
              "      <td>Oklahoma City</td>\n",
              "    </tr>\n",
              "  </tbody>\n",
              "</table>\n",
              "</div>\n",
              "      <button class=\"colab-df-convert\" onclick=\"convertToInteractive('df-4a9e0b3d-59ae-4035-8e8c-f41e4982f5e7')\"\n",
              "              title=\"Convert this dataframe to an interactive table.\"\n",
              "              style=\"display:none;\">\n",
              "        \n",
              "  <svg xmlns=\"http://www.w3.org/2000/svg\" height=\"24px\"viewBox=\"0 0 24 24\"\n",
              "       width=\"24px\">\n",
              "    <path d=\"M0 0h24v24H0V0z\" fill=\"none\"/>\n",
              "    <path d=\"M18.56 5.44l.94 2.06.94-2.06 2.06-.94-2.06-.94-.94-2.06-.94 2.06-2.06.94zm-11 1L8.5 8.5l.94-2.06 2.06-.94-2.06-.94L8.5 2.5l-.94 2.06-2.06.94zm10 10l.94 2.06.94-2.06 2.06-.94-2.06-.94-.94-2.06-.94 2.06-2.06.94z\"/><path d=\"M17.41 7.96l-1.37-1.37c-.4-.4-.92-.59-1.43-.59-.52 0-1.04.2-1.43.59L10.3 9.45l-7.72 7.72c-.78.78-.78 2.05 0 2.83L4 21.41c.39.39.9.59 1.41.59.51 0 1.02-.2 1.41-.59l7.78-7.78 2.81-2.81c.8-.78.8-2.07 0-2.86zM5.41 20L4 18.59l7.72-7.72 1.47 1.35L5.41 20z\"/>\n",
              "  </svg>\n",
              "      </button>\n",
              "      \n",
              "  <style>\n",
              "    .colab-df-container {\n",
              "      display:flex;\n",
              "      flex-wrap:wrap;\n",
              "      gap: 12px;\n",
              "    }\n",
              "\n",
              "    .colab-df-convert {\n",
              "      background-color: #E8F0FE;\n",
              "      border: none;\n",
              "      border-radius: 50%;\n",
              "      cursor: pointer;\n",
              "      display: none;\n",
              "      fill: #1967D2;\n",
              "      height: 32px;\n",
              "      padding: 0 0 0 0;\n",
              "      width: 32px;\n",
              "    }\n",
              "\n",
              "    .colab-df-convert:hover {\n",
              "      background-color: #E2EBFA;\n",
              "      box-shadow: 0px 1px 2px rgba(60, 64, 67, 0.3), 0px 1px 3px 1px rgba(60, 64, 67, 0.15);\n",
              "      fill: #174EA6;\n",
              "    }\n",
              "\n",
              "    [theme=dark] .colab-df-convert {\n",
              "      background-color: #3B4455;\n",
              "      fill: #D2E3FC;\n",
              "    }\n",
              "\n",
              "    [theme=dark] .colab-df-convert:hover {\n",
              "      background-color: #434B5C;\n",
              "      box-shadow: 0px 1px 3px 1px rgba(0, 0, 0, 0.15);\n",
              "      filter: drop-shadow(0px 1px 2px rgba(0, 0, 0, 0.3));\n",
              "      fill: #FFFFFF;\n",
              "    }\n",
              "  </style>\n",
              "\n",
              "      <script>\n",
              "        const buttonEl =\n",
              "          document.querySelector('#df-4a9e0b3d-59ae-4035-8e8c-f41e4982f5e7 button.colab-df-convert');\n",
              "        buttonEl.style.display =\n",
              "          google.colab.kernel.accessAllowed ? 'block' : 'none';\n",
              "\n",
              "        async function convertToInteractive(key) {\n",
              "          const element = document.querySelector('#df-4a9e0b3d-59ae-4035-8e8c-f41e4982f5e7');\n",
              "          const dataTable =\n",
              "            await google.colab.kernel.invokeFunction('convertToInteractive',\n",
              "                                                     [key], {});\n",
              "          if (!dataTable) return;\n",
              "\n",
              "          const docLinkHtml = 'Like what you see? Visit the ' +\n",
              "            '<a target=\"_blank\" href=https://colab.research.google.com/notebooks/data_table.ipynb>data table notebook</a>'\n",
              "            + ' to learn more about interactive tables.';\n",
              "          element.innerHTML = '';\n",
              "          dataTable['output_type'] = 'display_data';\n",
              "          await google.colab.output.renderOutput(dataTable, element);\n",
              "          const docLink = document.createElement('div');\n",
              "          docLink.innerHTML = docLinkHtml;\n",
              "          element.appendChild(docLink);\n",
              "        }\n",
              "      </script>\n",
              "    </div>\n",
              "  </div>\n",
              "  "
            ]
          },
          "metadata": {},
          "execution_count": 123
        }
      ]
    },
    {
      "cell_type": "code",
      "source": [
        "not_working[\"City\"].describe()"
      ],
      "metadata": {
        "id": "2r6f7LVk6qNp",
        "colab": {
          "base_uri": "https://localhost:8080/"
        },
        "outputId": "a36481c4-b5ae-44fc-cbb7-adfc16daa792"
      },
      "execution_count": 124,
      "outputs": [
        {
          "output_type": "execute_result",
          "data": {
            "text/plain": [
              "count     765\n",
              "unique     29\n",
              "top       C29\n",
              "freq       45\n",
              "Name: City, dtype: object"
            ]
          },
          "metadata": {},
          "execution_count": 124
        }
      ]
    },
    {
      "cell_type": "code",
      "source": [
        "Cities_map[Cities_map['City_ID']=='C29']"
      ],
      "metadata": {
        "colab": {
          "base_uri": "https://localhost:8080/",
          "height": 81
        },
        "id": "o6V1ZLR8wEJ0",
        "outputId": "7788b11e-a9f5-419c-ca93-45b469d22e42"
      },
      "execution_count": 125,
      "outputs": [
        {
          "output_type": "execute_result",
          "data": {
            "text/plain": [
              "   City_ID   City_Name\n",
              "28     C29  Washington"
            ],
            "text/html": [
              "\n",
              "  <div id=\"df-630542c2-c465-49f1-a232-966d339343fd\">\n",
              "    <div class=\"colab-df-container\">\n",
              "      <div>\n",
              "<style scoped>\n",
              "    .dataframe tbody tr th:only-of-type {\n",
              "        vertical-align: middle;\n",
              "    }\n",
              "\n",
              "    .dataframe tbody tr th {\n",
              "        vertical-align: top;\n",
              "    }\n",
              "\n",
              "    .dataframe thead th {\n",
              "        text-align: right;\n",
              "    }\n",
              "</style>\n",
              "<table border=\"1\" class=\"dataframe\">\n",
              "  <thead>\n",
              "    <tr style=\"text-align: right;\">\n",
              "      <th></th>\n",
              "      <th>City_ID</th>\n",
              "      <th>City_Name</th>\n",
              "    </tr>\n",
              "  </thead>\n",
              "  <tbody>\n",
              "    <tr>\n",
              "      <th>28</th>\n",
              "      <td>C29</td>\n",
              "      <td>Washington</td>\n",
              "    </tr>\n",
              "  </tbody>\n",
              "</table>\n",
              "</div>\n",
              "      <button class=\"colab-df-convert\" onclick=\"convertToInteractive('df-630542c2-c465-49f1-a232-966d339343fd')\"\n",
              "              title=\"Convert this dataframe to an interactive table.\"\n",
              "              style=\"display:none;\">\n",
              "        \n",
              "  <svg xmlns=\"http://www.w3.org/2000/svg\" height=\"24px\"viewBox=\"0 0 24 24\"\n",
              "       width=\"24px\">\n",
              "    <path d=\"M0 0h24v24H0V0z\" fill=\"none\"/>\n",
              "    <path d=\"M18.56 5.44l.94 2.06.94-2.06 2.06-.94-2.06-.94-.94-2.06-.94 2.06-2.06.94zm-11 1L8.5 8.5l.94-2.06 2.06-.94-2.06-.94L8.5 2.5l-.94 2.06-2.06.94zm10 10l.94 2.06.94-2.06 2.06-.94-2.06-.94-.94-2.06-.94 2.06-2.06.94z\"/><path d=\"M17.41 7.96l-1.37-1.37c-.4-.4-.92-.59-1.43-.59-.52 0-1.04.2-1.43.59L10.3 9.45l-7.72 7.72c-.78.78-.78 2.05 0 2.83L4 21.41c.39.39.9.59 1.41.59.51 0 1.02-.2 1.41-.59l7.78-7.78 2.81-2.81c.8-.78.8-2.07 0-2.86zM5.41 20L4 18.59l7.72-7.72 1.47 1.35L5.41 20z\"/>\n",
              "  </svg>\n",
              "      </button>\n",
              "      \n",
              "  <style>\n",
              "    .colab-df-container {\n",
              "      display:flex;\n",
              "      flex-wrap:wrap;\n",
              "      gap: 12px;\n",
              "    }\n",
              "\n",
              "    .colab-df-convert {\n",
              "      background-color: #E8F0FE;\n",
              "      border: none;\n",
              "      border-radius: 50%;\n",
              "      cursor: pointer;\n",
              "      display: none;\n",
              "      fill: #1967D2;\n",
              "      height: 32px;\n",
              "      padding: 0 0 0 0;\n",
              "      width: 32px;\n",
              "    }\n",
              "\n",
              "    .colab-df-convert:hover {\n",
              "      background-color: #E2EBFA;\n",
              "      box-shadow: 0px 1px 2px rgba(60, 64, 67, 0.3), 0px 1px 3px 1px rgba(60, 64, 67, 0.15);\n",
              "      fill: #174EA6;\n",
              "    }\n",
              "\n",
              "    [theme=dark] .colab-df-convert {\n",
              "      background-color: #3B4455;\n",
              "      fill: #D2E3FC;\n",
              "    }\n",
              "\n",
              "    [theme=dark] .colab-df-convert:hover {\n",
              "      background-color: #434B5C;\n",
              "      box-shadow: 0px 1px 3px 1px rgba(0, 0, 0, 0.15);\n",
              "      filter: drop-shadow(0px 1px 2px rgba(0, 0, 0, 0.3));\n",
              "      fill: #FFFFFF;\n",
              "    }\n",
              "  </style>\n",
              "\n",
              "      <script>\n",
              "        const buttonEl =\n",
              "          document.querySelector('#df-630542c2-c465-49f1-a232-966d339343fd button.colab-df-convert');\n",
              "        buttonEl.style.display =\n",
              "          google.colab.kernel.accessAllowed ? 'block' : 'none';\n",
              "\n",
              "        async function convertToInteractive(key) {\n",
              "          const element = document.querySelector('#df-630542c2-c465-49f1-a232-966d339343fd');\n",
              "          const dataTable =\n",
              "            await google.colab.kernel.invokeFunction('convertToInteractive',\n",
              "                                                     [key], {});\n",
              "          if (!dataTable) return;\n",
              "\n",
              "          const docLinkHtml = 'Like what you see? Visit the ' +\n",
              "            '<a target=\"_blank\" href=https://colab.research.google.com/notebooks/data_table.ipynb>data table notebook</a>'\n",
              "            + ' to learn more about interactive tables.';\n",
              "          element.innerHTML = '';\n",
              "          dataTable['output_type'] = 'display_data';\n",
              "          await google.colab.output.renderOutput(dataTable, element);\n",
              "          const docLink = document.createElement('div');\n",
              "          docLink.innerHTML = docLinkHtml;\n",
              "          element.appendChild(docLink);\n",
              "        }\n",
              "      </script>\n",
              "    </div>\n",
              "  </div>\n",
              "  "
            ]
          },
          "metadata": {},
          "execution_count": 125
        }
      ]
    },
    {
      "cell_type": "markdown",
      "source": [
        "\n",
        "\n",
        "*   Najwięcej pracowników pracuje w oddziale Oklahoma City. \n",
        "*   Najwięcej pracowników odeszło z oddziału Washington.\n",
        "*   Z pracy w tym oddziale zrezygnowało ok 88% obecnej liczby pracowników.\n",
        "\n",
        "\n",
        "\n"
      ],
      "metadata": {
        "id": "NuemsAk9wvMj"
      }
    },
    {
      "cell_type": "code",
      "source": [
        "# Liczba pracowników w danym oddziale\n",
        "still_working['City'].value_counts()"
      ],
      "metadata": {
        "id": "pxH4fnEw6uk_",
        "colab": {
          "base_uri": "https://localhost:8080/"
        },
        "outputId": "423bbfb4-689c-4146-a70b-30909c9b87a7"
      },
      "execution_count": 126,
      "outputs": [
        {
          "output_type": "execute_result",
          "data": {
            "text/plain": [
              "C20    111\n",
              "C15     69\n",
              "C26     65\n",
              "C10     61\n",
              "C27     60\n",
              "C28     59\n",
              "C13     58\n",
              "C14     58\n",
              "C23     57\n",
              "C1      56\n",
              "C2      55\n",
              "C17     55\n",
              "C6      55\n",
              "C25     54\n",
              "C9      53\n",
              "C8      53\n",
              "C12     53\n",
              "C4      52\n",
              "C7      52\n",
              "C3      52\n",
              "C24     51\n",
              "C29     51\n",
              "C16     50\n",
              "C22     50\n",
              "C5      48\n",
              "C21     48\n",
              "C11     45\n",
              "C18     44\n",
              "C19     41\n",
              "Name: City, dtype: int64"
            ]
          },
          "metadata": {},
          "execution_count": 126
        }
      ]
    },
    {
      "cell_type": "code",
      "source": [
        "# Liczba osób, które już nie pracują w danym oddziale.\n",
        "not_working['City'].value_counts()"
      ],
      "metadata": {
        "id": "GfIDYiVU6y3h",
        "colab": {
          "base_uri": "https://localhost:8080/"
        },
        "outputId": "70f1bcf9-3cfd-467b-8576-ef8153b4ab6d"
      },
      "execution_count": 127,
      "outputs": [
        {
          "output_type": "execute_result",
          "data": {
            "text/plain": [
              "C29    45\n",
              "C20    41\n",
              "C8     36\n",
              "C16    34\n",
              "C22    32\n",
              "C5     32\n",
              "C15    32\n",
              "C19    31\n",
              "C21    31\n",
              "C3     30\n",
              "C27    29\n",
              "C26    28\n",
              "C12    28\n",
              "C10    25\n",
              "C18    25\n",
              "C4     25\n",
              "C1     24\n",
              "C7     24\n",
              "C6     23\n",
              "C28    23\n",
              "C9     22\n",
              "C24    22\n",
              "C14    21\n",
              "C25    20\n",
              "C11    19\n",
              "C2     17\n",
              "C23    17\n",
              "C17    16\n",
              "C13    13\n",
              "Name: City, dtype: int64"
            ]
          },
          "metadata": {},
          "execution_count": 127
        }
      ]
    },
    {
      "cell_type": "markdown",
      "source": [
        "#### Procent osób niepracujących wśród wszystkich osób kiedykolwiek zatrudnionych przez firmę, oraz stosunek osób niepracujących przypadających na osoby nadal zatrudnione"
      ],
      "metadata": {
        "id": "6cW8arpnxv5_"
      }
    },
    {
      "cell_type": "code",
      "source": [
        "def Fired(city):\n",
        "    return not_working['City'].value_counts()[city]*100/(still_working['City'].value_counts()[city]+not_working['City'].value_counts()[city])\n",
        "\n",
        "def St(city):\n",
        "  return not_working['City'].value_counts()[city]*100/still_working['City'].value_counts()[city]\n",
        "\n",
        "Cities_map['%fired'] = Cities_map['City_ID'].apply(Fired)\n",
        "Cities_map['%not_work/work'] = Cities_map['City_ID'].apply(St)\n",
        "Cities_map"
      ],
      "metadata": {
        "colab": {
          "base_uri": "https://localhost:8080/",
          "height": 959
        },
        "id": "vU395P6AxmQR",
        "outputId": "1c6ec630-2cfa-4a84-e19f-9de3499954cd"
      },
      "execution_count": 128,
      "outputs": [
        {
          "output_type": "execute_result",
          "data": {
            "text/plain": [
              "   City_ID      City_Name     %fired  %not_work/work\n",
              "0       C1         Austin  30.000000       42.857143\n",
              "1       C2         Boston  23.611111       30.909091\n",
              "2       C3      Charlotte  36.585366       57.692308\n",
              "3       C4        Chicago  32.467532       48.076923\n",
              "4       C5       Columbus  40.000000       66.666667\n",
              "5       C6         Dallas  29.487179       41.818182\n",
              "6       C7         Denver  31.578947       46.153846\n",
              "7       C8        Detroit  40.449438       67.924528\n",
              "8       C9        El Paso  29.333333       41.509434\n",
              "9      C10     Fort Worth  29.069767       40.983607\n",
              "10     C11        Houston  29.687500       42.222222\n",
              "11     C12   Indianapolis  34.567901       52.830189\n",
              "12     C13   Jacksonville  18.309859       22.413793\n",
              "13     C14      Las Vegas  26.582278       36.206897\n",
              "14     C15    Los Angeles  31.683168       46.376812\n",
              "15     C16     Loiusville  40.476190       68.000000\n",
              "16     C17        Memphis  22.535211       29.090909\n",
              "17     C18      Nashville  36.231884       56.818182\n",
              "18     C19       New York  43.055556       75.609756\n",
              "19     C20  Oklahoma City  26.973684       36.936937\n",
              "20     C21   Philadelphia  39.240506       64.583333\n",
              "21     C22        Phoenix  39.024390       64.000000\n",
              "22     C23       Portland  22.972973       29.824561\n",
              "23     C24    San Antonio  30.136986       43.137255\n",
              "24     C25      San Diego  27.027027       37.037037\n",
              "25     C26  San Francisco  30.107527       43.076923\n",
              "26     C27       San Jose  32.584270       48.333333\n",
              "27     C28        Seattle  28.048780       38.983051\n",
              "28     C29     Washington  46.875000       88.235294"
            ],
            "text/html": [
              "\n",
              "  <div id=\"df-5675dc50-ff31-4c9b-b0b8-7fc509329c4e\">\n",
              "    <div class=\"colab-df-container\">\n",
              "      <div>\n",
              "<style scoped>\n",
              "    .dataframe tbody tr th:only-of-type {\n",
              "        vertical-align: middle;\n",
              "    }\n",
              "\n",
              "    .dataframe tbody tr th {\n",
              "        vertical-align: top;\n",
              "    }\n",
              "\n",
              "    .dataframe thead th {\n",
              "        text-align: right;\n",
              "    }\n",
              "</style>\n",
              "<table border=\"1\" class=\"dataframe\">\n",
              "  <thead>\n",
              "    <tr style=\"text-align: right;\">\n",
              "      <th></th>\n",
              "      <th>City_ID</th>\n",
              "      <th>City_Name</th>\n",
              "      <th>%fired</th>\n",
              "      <th>%not_work/work</th>\n",
              "    </tr>\n",
              "  </thead>\n",
              "  <tbody>\n",
              "    <tr>\n",
              "      <th>0</th>\n",
              "      <td>C1</td>\n",
              "      <td>Austin</td>\n",
              "      <td>30.000000</td>\n",
              "      <td>42.857143</td>\n",
              "    </tr>\n",
              "    <tr>\n",
              "      <th>1</th>\n",
              "      <td>C2</td>\n",
              "      <td>Boston</td>\n",
              "      <td>23.611111</td>\n",
              "      <td>30.909091</td>\n",
              "    </tr>\n",
              "    <tr>\n",
              "      <th>2</th>\n",
              "      <td>C3</td>\n",
              "      <td>Charlotte</td>\n",
              "      <td>36.585366</td>\n",
              "      <td>57.692308</td>\n",
              "    </tr>\n",
              "    <tr>\n",
              "      <th>3</th>\n",
              "      <td>C4</td>\n",
              "      <td>Chicago</td>\n",
              "      <td>32.467532</td>\n",
              "      <td>48.076923</td>\n",
              "    </tr>\n",
              "    <tr>\n",
              "      <th>4</th>\n",
              "      <td>C5</td>\n",
              "      <td>Columbus</td>\n",
              "      <td>40.000000</td>\n",
              "      <td>66.666667</td>\n",
              "    </tr>\n",
              "    <tr>\n",
              "      <th>5</th>\n",
              "      <td>C6</td>\n",
              "      <td>Dallas</td>\n",
              "      <td>29.487179</td>\n",
              "      <td>41.818182</td>\n",
              "    </tr>\n",
              "    <tr>\n",
              "      <th>6</th>\n",
              "      <td>C7</td>\n",
              "      <td>Denver</td>\n",
              "      <td>31.578947</td>\n",
              "      <td>46.153846</td>\n",
              "    </tr>\n",
              "    <tr>\n",
              "      <th>7</th>\n",
              "      <td>C8</td>\n",
              "      <td>Detroit</td>\n",
              "      <td>40.449438</td>\n",
              "      <td>67.924528</td>\n",
              "    </tr>\n",
              "    <tr>\n",
              "      <th>8</th>\n",
              "      <td>C9</td>\n",
              "      <td>El Paso</td>\n",
              "      <td>29.333333</td>\n",
              "      <td>41.509434</td>\n",
              "    </tr>\n",
              "    <tr>\n",
              "      <th>9</th>\n",
              "      <td>C10</td>\n",
              "      <td>Fort Worth</td>\n",
              "      <td>29.069767</td>\n",
              "      <td>40.983607</td>\n",
              "    </tr>\n",
              "    <tr>\n",
              "      <th>10</th>\n",
              "      <td>C11</td>\n",
              "      <td>Houston</td>\n",
              "      <td>29.687500</td>\n",
              "      <td>42.222222</td>\n",
              "    </tr>\n",
              "    <tr>\n",
              "      <th>11</th>\n",
              "      <td>C12</td>\n",
              "      <td>Indianapolis</td>\n",
              "      <td>34.567901</td>\n",
              "      <td>52.830189</td>\n",
              "    </tr>\n",
              "    <tr>\n",
              "      <th>12</th>\n",
              "      <td>C13</td>\n",
              "      <td>Jacksonville</td>\n",
              "      <td>18.309859</td>\n",
              "      <td>22.413793</td>\n",
              "    </tr>\n",
              "    <tr>\n",
              "      <th>13</th>\n",
              "      <td>C14</td>\n",
              "      <td>Las Vegas</td>\n",
              "      <td>26.582278</td>\n",
              "      <td>36.206897</td>\n",
              "    </tr>\n",
              "    <tr>\n",
              "      <th>14</th>\n",
              "      <td>C15</td>\n",
              "      <td>Los Angeles</td>\n",
              "      <td>31.683168</td>\n",
              "      <td>46.376812</td>\n",
              "    </tr>\n",
              "    <tr>\n",
              "      <th>15</th>\n",
              "      <td>C16</td>\n",
              "      <td>Loiusville</td>\n",
              "      <td>40.476190</td>\n",
              "      <td>68.000000</td>\n",
              "    </tr>\n",
              "    <tr>\n",
              "      <th>16</th>\n",
              "      <td>C17</td>\n",
              "      <td>Memphis</td>\n",
              "      <td>22.535211</td>\n",
              "      <td>29.090909</td>\n",
              "    </tr>\n",
              "    <tr>\n",
              "      <th>17</th>\n",
              "      <td>C18</td>\n",
              "      <td>Nashville</td>\n",
              "      <td>36.231884</td>\n",
              "      <td>56.818182</td>\n",
              "    </tr>\n",
              "    <tr>\n",
              "      <th>18</th>\n",
              "      <td>C19</td>\n",
              "      <td>New York</td>\n",
              "      <td>43.055556</td>\n",
              "      <td>75.609756</td>\n",
              "    </tr>\n",
              "    <tr>\n",
              "      <th>19</th>\n",
              "      <td>C20</td>\n",
              "      <td>Oklahoma City</td>\n",
              "      <td>26.973684</td>\n",
              "      <td>36.936937</td>\n",
              "    </tr>\n",
              "    <tr>\n",
              "      <th>20</th>\n",
              "      <td>C21</td>\n",
              "      <td>Philadelphia</td>\n",
              "      <td>39.240506</td>\n",
              "      <td>64.583333</td>\n",
              "    </tr>\n",
              "    <tr>\n",
              "      <th>21</th>\n",
              "      <td>C22</td>\n",
              "      <td>Phoenix</td>\n",
              "      <td>39.024390</td>\n",
              "      <td>64.000000</td>\n",
              "    </tr>\n",
              "    <tr>\n",
              "      <th>22</th>\n",
              "      <td>C23</td>\n",
              "      <td>Portland</td>\n",
              "      <td>22.972973</td>\n",
              "      <td>29.824561</td>\n",
              "    </tr>\n",
              "    <tr>\n",
              "      <th>23</th>\n",
              "      <td>C24</td>\n",
              "      <td>San Antonio</td>\n",
              "      <td>30.136986</td>\n",
              "      <td>43.137255</td>\n",
              "    </tr>\n",
              "    <tr>\n",
              "      <th>24</th>\n",
              "      <td>C25</td>\n",
              "      <td>San Diego</td>\n",
              "      <td>27.027027</td>\n",
              "      <td>37.037037</td>\n",
              "    </tr>\n",
              "    <tr>\n",
              "      <th>25</th>\n",
              "      <td>C26</td>\n",
              "      <td>San Francisco</td>\n",
              "      <td>30.107527</td>\n",
              "      <td>43.076923</td>\n",
              "    </tr>\n",
              "    <tr>\n",
              "      <th>26</th>\n",
              "      <td>C27</td>\n",
              "      <td>San Jose</td>\n",
              "      <td>32.584270</td>\n",
              "      <td>48.333333</td>\n",
              "    </tr>\n",
              "    <tr>\n",
              "      <th>27</th>\n",
              "      <td>C28</td>\n",
              "      <td>Seattle</td>\n",
              "      <td>28.048780</td>\n",
              "      <td>38.983051</td>\n",
              "    </tr>\n",
              "    <tr>\n",
              "      <th>28</th>\n",
              "      <td>C29</td>\n",
              "      <td>Washington</td>\n",
              "      <td>46.875000</td>\n",
              "      <td>88.235294</td>\n",
              "    </tr>\n",
              "  </tbody>\n",
              "</table>\n",
              "</div>\n",
              "      <button class=\"colab-df-convert\" onclick=\"convertToInteractive('df-5675dc50-ff31-4c9b-b0b8-7fc509329c4e')\"\n",
              "              title=\"Convert this dataframe to an interactive table.\"\n",
              "              style=\"display:none;\">\n",
              "        \n",
              "  <svg xmlns=\"http://www.w3.org/2000/svg\" height=\"24px\"viewBox=\"0 0 24 24\"\n",
              "       width=\"24px\">\n",
              "    <path d=\"M0 0h24v24H0V0z\" fill=\"none\"/>\n",
              "    <path d=\"M18.56 5.44l.94 2.06.94-2.06 2.06-.94-2.06-.94-.94-2.06-.94 2.06-2.06.94zm-11 1L8.5 8.5l.94-2.06 2.06-.94-2.06-.94L8.5 2.5l-.94 2.06-2.06.94zm10 10l.94 2.06.94-2.06 2.06-.94-2.06-.94-.94-2.06-.94 2.06-2.06.94z\"/><path d=\"M17.41 7.96l-1.37-1.37c-.4-.4-.92-.59-1.43-.59-.52 0-1.04.2-1.43.59L10.3 9.45l-7.72 7.72c-.78.78-.78 2.05 0 2.83L4 21.41c.39.39.9.59 1.41.59.51 0 1.02-.2 1.41-.59l7.78-7.78 2.81-2.81c.8-.78.8-2.07 0-2.86zM5.41 20L4 18.59l7.72-7.72 1.47 1.35L5.41 20z\"/>\n",
              "  </svg>\n",
              "      </button>\n",
              "      \n",
              "  <style>\n",
              "    .colab-df-container {\n",
              "      display:flex;\n",
              "      flex-wrap:wrap;\n",
              "      gap: 12px;\n",
              "    }\n",
              "\n",
              "    .colab-df-convert {\n",
              "      background-color: #E8F0FE;\n",
              "      border: none;\n",
              "      border-radius: 50%;\n",
              "      cursor: pointer;\n",
              "      display: none;\n",
              "      fill: #1967D2;\n",
              "      height: 32px;\n",
              "      padding: 0 0 0 0;\n",
              "      width: 32px;\n",
              "    }\n",
              "\n",
              "    .colab-df-convert:hover {\n",
              "      background-color: #E2EBFA;\n",
              "      box-shadow: 0px 1px 2px rgba(60, 64, 67, 0.3), 0px 1px 3px 1px rgba(60, 64, 67, 0.15);\n",
              "      fill: #174EA6;\n",
              "    }\n",
              "\n",
              "    [theme=dark] .colab-df-convert {\n",
              "      background-color: #3B4455;\n",
              "      fill: #D2E3FC;\n",
              "    }\n",
              "\n",
              "    [theme=dark] .colab-df-convert:hover {\n",
              "      background-color: #434B5C;\n",
              "      box-shadow: 0px 1px 3px 1px rgba(0, 0, 0, 0.15);\n",
              "      filter: drop-shadow(0px 1px 2px rgba(0, 0, 0, 0.3));\n",
              "      fill: #FFFFFF;\n",
              "    }\n",
              "  </style>\n",
              "\n",
              "      <script>\n",
              "        const buttonEl =\n",
              "          document.querySelector('#df-5675dc50-ff31-4c9b-b0b8-7fc509329c4e button.colab-df-convert');\n",
              "        buttonEl.style.display =\n",
              "          google.colab.kernel.accessAllowed ? 'block' : 'none';\n",
              "\n",
              "        async function convertToInteractive(key) {\n",
              "          const element = document.querySelector('#df-5675dc50-ff31-4c9b-b0b8-7fc509329c4e');\n",
              "          const dataTable =\n",
              "            await google.colab.kernel.invokeFunction('convertToInteractive',\n",
              "                                                     [key], {});\n",
              "          if (!dataTable) return;\n",
              "\n",
              "          const docLinkHtml = 'Like what you see? Visit the ' +\n",
              "            '<a target=\"_blank\" href=https://colab.research.google.com/notebooks/data_table.ipynb>data table notebook</a>'\n",
              "            + ' to learn more about interactive tables.';\n",
              "          element.innerHTML = '';\n",
              "          dataTable['output_type'] = 'display_data';\n",
              "          await google.colab.output.renderOutput(dataTable, element);\n",
              "          const docLink = document.createElement('div');\n",
              "          docLink.innerHTML = docLinkHtml;\n",
              "          element.appendChild(docLink);\n",
              "        }\n",
              "      </script>\n",
              "    </div>\n",
              "  </div>\n",
              "  "
            ]
          },
          "metadata": {},
          "execution_count": 128
        }
      ]
    },
    {
      "cell_type": "markdown",
      "source": [
        "#### Podział pracowników ze względu na płeć"
      ],
      "metadata": {
        "id": "lpogSf4F67P0"
      }
    },
    {
      "cell_type": "code",
      "source": [
        "still_working['Gender'].describe()"
      ],
      "metadata": {
        "id": "ymHsCrfJ62vc",
        "colab": {
          "base_uri": "https://localhost:8080/"
        },
        "outputId": "1cc9306a-d93e-4b7d-e1f6-1336fffc942e"
      },
      "execution_count": 129,
      "outputs": [
        {
          "output_type": "execute_result",
          "data": {
            "text/plain": [
              "count     1616\n",
              "unique       2\n",
              "top       Male\n",
              "freq       948\n",
              "Name: Gender, dtype: object"
            ]
          },
          "metadata": {},
          "execution_count": 129
        }
      ]
    },
    {
      "cell_type": "code",
      "source": [
        "not_working['Gender'].describe()"
      ],
      "metadata": {
        "id": "o88e57el7FNA",
        "colab": {
          "base_uri": "https://localhost:8080/"
        },
        "outputId": "1e1c2772-5643-4efb-d3f6-1452dc505606"
      },
      "execution_count": 130,
      "outputs": [
        {
          "output_type": "execute_result",
          "data": {
            "text/plain": [
              "count      765\n",
              "unique       2\n",
              "top       Male\n",
              "freq       456\n",
              "Name: Gender, dtype: object"
            ]
          },
          "metadata": {},
          "execution_count": 130
        }
      ]
    },
    {
      "cell_type": "markdown",
      "source": [
        "### Wnioski\n",
        "Ilość pracowników w poszczególnych oddziałach znacząco różni się miedzy sobą.\n",
        "Najwięcej pracowników pracuje w oddziale Oklahoma City. \n",
        "Natomiast najwięcej pracowników odeszło z oddziału Washington, który jest oddziałem o połowę mniej licznym niż oddział Oklahoma City.\n",
        "Procent osób niepracujących wśród wszystkich osób które kiedykolwiek pracowały w danym oddziale jest zbliżony, za wyjątkiem oddziału Washington, gdzie wynosi 46,87%.\n",
        "Większe różnice między poszczególnymi oddziałami można zauważyć porównując stosunek osób już niepracujących, do osób które pracują w danym oddziale. \n",
        "Tutaj również wyróżnia się oddział Washington, gdzie stosunek ten wynosi 88,23%."
      ],
      "metadata": {
        "id": "Ryz7kL5IyyXC"
      }
    },
    {
      "cell_type": "markdown",
      "source": [
        "Częstość zatrudniania pracowników w zależności od miesiąca"
      ],
      "metadata": {
        "id": "-iX0QZW67UMt"
      }
    },
    {
      "cell_type": "markdown",
      "source": [
        "## Zmiany w firmie na przestrzeni czasu"
      ],
      "metadata": {
        "id": "cWgs5m_gBwFL"
      }
    },
    {
      "cell_type": "markdown",
      "source": [
        "### Wykresy z podstawowymi informacjami"
      ],
      "metadata": {
        "id": "GMWRR2F1B_QV"
      }
    },
    {
      "cell_type": "code",
      "source": [
        "months_distr = [[i + 1,0] for i in range(12)]\n",
        "months_space = {'October':10, 'August':8}\n",
        "months_dot = {'Oct':10, 'Aug':8}\n",
        "for i in worker_summary['Dateofjoining']:\n",
        "    if ' ' in i:\n",
        "        key = i.split(\" \")[0]\n",
        "        if key in months_space:\n",
        "            month = months_space[key]\n",
        "    elif '.' in i:\n",
        "        pot_key = i.split(\".\")[1]\n",
        "        if pot_key in months_dot:\n",
        "            month = months_dot[pot_key]\n",
        "        else:\n",
        "            month = int(pot_key)\n",
        "    months_distr[month - 1][1] += 1\n",
        "months_df = pd.DataFrame(months_distr, columns = ['Month', 'Value'])\n",
        "plt.bar(months_df['Month'], months_df['Value'], width = 0.4)\n",
        "plt.title(\"Miesiące podjęcia pracy\")\n",
        "plt.ylabel(\"Liczba\")\n",
        "plt.xlabel(\"Miesiąc\")"
      ],
      "metadata": {
        "colab": {
          "base_uri": "https://localhost:8080/",
          "height": 313
        },
        "id": "uXNdstAeB9Un",
        "outputId": "f558e372-0c42-4110-89a9-785f77aff993"
      },
      "execution_count": 132,
      "outputs": [
        {
          "output_type": "execute_result",
          "data": {
            "text/plain": [
              "Text(0.5, 0, 'Miesiąc')"
            ]
          },
          "metadata": {},
          "execution_count": 132
        },
        {
          "output_type": "display_data",
          "data": {
            "text/plain": [
              "<Figure size 432x288 with 1 Axes>"
            ],
            "image/png": "[encoded data removed]"
          },
          "metadata": {
            "needs_background": "light"
          }
        }
      ]
    },
    {
      "cell_type": "code",
      "source": [
        "months2_distr = [[i + 1,0] for i in range(12)]\n",
        "for i in worker_summary['LastWorkingDate']:\n",
        "    if i == 0:\n",
        "        continue\n",
        "    if ' ' in i:\n",
        "        key = i.split(\" \")[0]\n",
        "        if key in months_space:\n",
        "            month = months_space[key]\n",
        "    elif '.' in i:\n",
        "        pot_key = i.split(\".\")[1]\n",
        "        if pot_key in months_dot:\n",
        "            month = months_dot[pot_key]\n",
        "        else:\n",
        "            month = int(pot_key)\n",
        "    months2_distr[month - 1][1] += 1\n",
        "months2_df = pd.DataFrame(months2_distr, columns = ['Month', 'Value'])\n",
        "plt.bar(months2_df['Month'], months2_df['Value'], width = 0.4)\n",
        "plt.title(\"Miesiące zakończenia pracy\")\n",
        "plt.ylabel(\"Liczba\")\n",
        "plt.xlabel(\"Miesiąc\")"
      ],
      "metadata": {
        "colab": {
          "base_uri": "https://localhost:8080/",
          "height": 313
        },
        "id": "CRoqWM33CVF9",
        "outputId": "d6ee2231-46b2-4451-d0b3-72a5836f83d8"
      },
      "execution_count": 135,
      "outputs": [
        {
          "output_type": "execute_result",
          "data": {
            "text/plain": [
              "Text(0.5, 0, 'Miesiąc')"
            ]
          },
          "metadata": {},
          "execution_count": 135
        },
        {
          "output_type": "display_data",
          "data": {
            "text/plain": [
              "<Figure size 432x288 with 1 Axes>"
            ],
            "image/png": "[encoded data removed]"
          },
          "metadata": {
            "needs_background": "light"
          }
        }
      ]
    },
    {
      "cell_type": "code",
      "source": [
        "import datetime \n",
        "days = []\n",
        "years = []\n",
        "maximum = 0\n",
        "for i in range(len(worker_summary)):\n",
        "        first_day = worker_summary['Dateofjoining'].iloc[i]\n",
        "        if ' ' in first_day:\n",
        "            first_day_splited = first_day.split(\" \")\n",
        "            if isinstance(first_day_splited[0], str):\n",
        "                first_day_splited[0] = months_space[first_day_splited[0]]\n",
        "            first_datetime = datetime.datetime(int(first_day_splited[2]), first_day_splited[0], int(first_day_splited[1]))\n",
        "        elif first_day.split(\".\")[1] in months_dot:\n",
        "            first_day_splited = first_day.split(\".\")\n",
        "            first_day_splited[1] = months_dot[first_day.split(\".\")[1]]\n",
        "            first_day_splited[2] = \"20\" + first_day_splited[2]\n",
        "            first_datetime = datetime.datetime(int(first_day_splited[2]), int(first_day_splited[1]), int(first_day_splited[0]))\n",
        "        else:\n",
        "            first_day_splited = first_day.split(\".\")\n",
        "            first_datetime = datetime.datetime(int(first_day_splited[2]), int(first_day_splited[1]), int(first_day_splited[0]))\n",
        "        if maximum == 0:\n",
        "            maximum = first_datetime\n",
        "        elif maximum < first_datetime:\n",
        "            maximum = first_datetime\n",
        "for i in range(len(worker_summary)):\n",
        "        first_day = worker_summary['Dateofjoining'].iloc[i]\n",
        "        last_day = worker_summary['LastWorkingDate'].iloc[i]\n",
        "        if last_day == 0:\n",
        "            last_day = str(maximum)\n",
        "        if len(last_day) > 10:\n",
        "            last_day = last_day[:10]\n",
        "        if ' ' in first_day:\n",
        "            first_day_splited = first_day.split(\" \")\n",
        "            if isinstance(first_day_splited[0], str):\n",
        "                first_day_splited[0] = months_space[first_day_splited[0]]\n",
        "            first_datetime = datetime.datetime(int(first_day_splited[2]), first_day_splited[0], int(first_day_splited[1]))\n",
        "        else:\n",
        "            first_day_splited = first_day.split(\".\")\n",
        "            if first_day_splited[1] in months_dot:\n",
        "                first_day_splited[1] = months_dot[first_day_splited[1]]\n",
        "                first_day_splited[2] = \"20\" + first_day_splited[2]\n",
        "            first_datetime = datetime.datetime(int(first_day_splited[2]), int(first_day_splited[1]), int(first_day_splited[0]))\n",
        "        if '-' not in last_day:\n",
        "            last_day_splited = last_day.split(\".\")\n",
        "            last_datetime = datetime.datetime(int(last_day_splited[2]), int(last_day_splited[1]), int(last_day_splited[0]))\n",
        "        working_time_pre = str(last_datetime - first_datetime)\n",
        "        if working_time_pre == \"0:00:00\":\n",
        "            working_time = int(working_time_pre.split(\":\")[0])\n",
        "        else:\n",
        "            working_time = int(working_time_pre.split(\" \")[0])\n",
        "        days.append(working_time)\n",
        "        years.append(int(first_day_splited[2]))\n",
        "final_days = [[i + 1,0] for i in range((round(max(days)/365))+1)]\n",
        "first_years = [[i, 0]for i in range(min(years), max(years)+1)]\n",
        "for element in days:\n",
        "    final_days[round(element / 365)][1] += 1\n",
        "for element in years:\n",
        "    first_years[element - min(years)][1] += 1\n",
        "nr_of_years = pd.DataFrame(final_days, columns=['Years', 'Number'])\n",
        "plt.bar(nr_of_years['Years'], nr_of_years['Number'], width = 0.4)\n",
        "plt.title(\"Przekrój czasu pracy pracowników\")\n",
        "plt.ylabel(\"Liczba pracowników\")\n",
        "plt.xlabel(\"Lata pracy\")"
      ],
      "metadata": {
        "colab": {
          "base_uri": "https://localhost:8080/",
          "height": 313
        },
        "id": "ZbfCJ888CKXQ",
        "outputId": "59cf69eb-f2f9-469d-9c27-97d76e91db4e"
      },
      "execution_count": 133,
      "outputs": [
        {
          "output_type": "execute_result",
          "data": {
            "text/plain": [
              "Text(0.5, 0, 'Lata pracy')"
            ]
          },
          "metadata": {},
          "execution_count": 133
        },
        {
          "output_type": "display_data",
          "data": {
            "text/plain": [
              "<Figure size 432x288 with 1 Axes>"
            ],
            "image/png": "[encoded data removed]"
          },
          "metadata": {
            "needs_background": "light"
          }
        }
      ]
    },
    {
      "cell_type": "code",
      "source": [
        "start_years = pd.DataFrame(first_years, columns=['Years', 'Number'])\n",
        "plt.bar(start_years['Years'], start_years['Number'], width = 0.4)\n",
        "plt.title(\"Lata rozpoczęcia pracy przez pracowników\")\n",
        "plt.ylabel(\"Liczba pracowników\")\n",
        "plt.xlabel(\"Lata pracy\")"
      ],
      "metadata": {
        "colab": {
          "base_uri": "https://localhost:8080/",
          "height": 313
        },
        "id": "4yevfsDmCR-8",
        "outputId": "280780fd-c564-4035-dc39-68fea591f1f6"
      },
      "execution_count": 134,
      "outputs": [
        {
          "output_type": "execute_result",
          "data": {
            "text/plain": [
              "Text(0.5, 0, 'Lata pracy')"
            ]
          },
          "metadata": {},
          "execution_count": 134
        },
        {
          "output_type": "display_data",
          "data": {
            "text/plain": [
              "<Figure size 432x288 with 1 Axes>"
            ],
            "image/png": "[encoded data removed]"
          },
          "metadata": {
            "needs_background": "light"
          }
        }
      ]
    },
    {
      "cell_type": "markdown",
      "source": [
        "Większość pracowników rozpoczęło pracę w latach 2015 - 2017"
      ],
      "metadata": {
        "id": "LBgHD6NpD90_"
      }
    },
    {
      "cell_type": "code",
      "source": [
        "start_years = pd.DataFrame(first_years, columns=['Years', 'Number'])\n",
        "plt.bar(start_years['Years'], start_years['Number'], width = 0.4)\n",
        "plt.title(\"Lata zakończenia pracy przez pracowników\")\n",
        "plt.ylabel(\"Liczba pracowników\")\n",
        "plt.xlabel(\"Lata pracy\")"
      ],
      "metadata": {
        "colab": {
          "base_uri": "https://localhost:8080/",
          "height": 313
        },
        "id": "nndjcKbEEt3C",
        "outputId": "12019057-d01e-4d0a-b2c9-de874e3f6fcd"
      },
      "execution_count": 137,
      "outputs": [
        {
          "output_type": "execute_result",
          "data": {
            "text/plain": [
              "Text(0.5, 0, 'Lata pracy')"
            ]
          },
          "metadata": {},
          "execution_count": 137
        },
        {
          "output_type": "display_data",
          "data": {
            "text/plain": [
              "<Figure size 432x288 with 1 Axes>"
            ],
            "image/png": "[encoded data removed]"
          },
          "metadata": {
            "needs_background": "light"
          }
        }
      ]
    },
    {
      "cell_type": "markdown",
      "source": [
        "Analogicznie, większość pracowników zakończyło pracę w latach 2015 - 2017"
      ],
      "metadata": {
        "id": "yi-GpzHuE9Rf"
      }
    },
    {
      "cell_type": "code",
      "source": [
        "monthsbv_distr = [[i + 1,0] for i in range(12)]\n",
        "for i in range(len(att_set)):\n",
        "    date = att_set['MMM.YY'].loc[i]\n",
        "    bv = att_set['Total.Business.Value'].loc[i]\n",
        "    month = int(date.split(\".\")[1])\n",
        "    monthsbv_distr[month - 1][1] += bv\n",
        "monthsbv_df = pd.DataFrame(monthsbv_distr, columns = ['Month', 'Value'])\n",
        "plt.bar(monthsbv_df['Month'], monthsbv_df['Value'], width = 0.4)\n",
        "plt.title(\"Wypracowana wartość dla firmy w danym miesiącu\")\n",
        "plt.ylabel(\"Wartość\")\n",
        "plt.xlabel(\"Miesiąc\")"
      ],
      "metadata": {
        "colab": {
          "base_uri": "https://localhost:8080/",
          "height": 313
        },
        "id": "TcL0XV64CYOw",
        "outputId": "25f02fe3-2cee-4b6c-9906-75eee3f32e5d"
      },
      "execution_count": 136,
      "outputs": [
        {
          "output_type": "execute_result",
          "data": {
            "text/plain": [
              "Text(0.5, 0, 'Miesiąc')"
            ]
          },
          "metadata": {},
          "execution_count": 136
        },
        {
          "output_type": "display_data",
          "data": {
            "text/plain": [
              "<Figure size 432x288 with 1 Axes>"
            ],
            "image/png": "[encoded data removed]"
          },
          "metadata": {
            "needs_background": "light"
          }
        }
      ]
    },
    {
      "cell_type": "markdown",
      "source": [
        "### Wnioski\n",
        "Zdecydowana większość pracowników pracuje w firmie przez 1-2 lata. Jest to niekorzystne z punktu widzenia firmy, gdyż nie pozwala na korzystanie z wypracowanego doświadczenia pracowników. Może to też oznaczać, że warunki pracy nie są dogodne dla większości z nich. "
      ],
      "metadata": {
        "id": "Fb672KpqCaSc"
      }
    },
    {
      "cell_type": "markdown",
      "source": [
        "# Podsumowanie\n",
        "\n",
        "Na podstawie otrzymanych z analizy danych, można wywnioskować, że najczęstszą przyczyną odejścia pracowników jest dysproporcja między ich kwalifikacjami i wynikami a otrzymywaną pensją. Osoby, które odeszły z firmy wykazywały się większymi umiejętnościami podczas pracy niż osoby, które są nadal zatrudnione, bez znaczących różnic w wynagrodzeniu między tymi dwoma grupami. Przy tym warto pamiętać, że inne czynniki, takie jak oddział, w którym byli zatrudnieni pracownicy, mogły mieć wpływ na ich odejście. Oddział w Waszyngtonie, z którego odeszło 88,23% pracowników, zasługuje na szczególną uwagę."
      ],
      "metadata": {
        "id": "kaY8n3nN9U36"
      }
    }
  ]
}